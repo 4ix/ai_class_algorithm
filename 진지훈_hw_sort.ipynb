{
 "cells": [
  {
   "cell_type": "code",
   "execution_count": 18,
   "metadata": {},
   "outputs": [
    {
     "name": "stdout",
     "output_type": "stream",
     "text": [
      "1조:  ['영웅', 67] ['초아', 99] 2조:  ['화사', 71] ['민호', 92] 3조:  ['영탁', 78] ['선미', 88]\n"
     ]
    }
   ],
   "source": [
    "scoreAry = [['선미', 88], ['초아', 99], ['화사', 71], ['영탁', 78], ['영웅', 67], ['민호', 92]]\n",
    "resultAry = []\n",
    "# 성적순으로 정렬 후 2인 1조를 생성 -> 결과 출력, 가장 작은 값과 가장 큰 성적 1조\n",
    "# 조 편성 후 조별 이름 출력\n",
    "\n",
    "def find_idx(scoreAry, sw):\n",
    "    find_idx = 0\n",
    "    if sw == 'min':\n",
    "        for idx in range(1,len(scoreAry)):\n",
    "            if scoreAry[idx][1] < scoreAry[find_idx][1]:\n",
    "                find_idx = idx\n",
    "        return find_idx\n",
    "    elif sw == 'max':\n",
    "        for idx in range(1,len(scoreAry)):\n",
    "            if scoreAry[idx][1] > scoreAry[find_idx][1]:\n",
    "                find_idx = idx\n",
    "        return find_idx\n",
    "\n",
    "cnt = 1\n",
    "for i in range(len(scoreAry)):\n",
    "    if i %2 == 0:\n",
    "        resultAry.append(f'{cnt}조: ')\n",
    "        search_idx = find_idx(scoreAry, sw='min')\n",
    "        resultAry.append(scoreAry[search_idx])\n",
    "        del(scoreAry[search_idx])\n",
    "        cnt+=1\n",
    "    else:\n",
    "        search_idx = find_idx(scoreAry, sw='max')\n",
    "        resultAry.append(scoreAry[search_idx])\n",
    "        del(scoreAry[search_idx])\n",
    "    # resultAry.append('\\n')\n",
    "# print('정렬 후: ', resultAry)\n",
    "\n",
    "result = ' '.join(str(s) for s in resultAry)\n",
    "print(result)"
   ]
  },
  {
   "cell_type": "code",
   "execution_count": 19,
   "metadata": {},
   "outputs": [
    {
     "name": "stdout",
     "output_type": "stream",
     "text": [
      "1차원 정렬: [55, 33, 250, 44, 88, 1, 67, 23, 199, 222, 38, 47, 155, 145, 20, 99]\n",
      "오름차순 정렬: [1, 20, 23, 33, 38, 44, 47, 55, 67, 88, 99, 145, 155, 199, 222, 250]\n",
      "중앙값: 67\n"
     ]
    }
   ],
   "source": [
    "array = [[55, 33, 250, 44], [88,  1,  67, 23], [199,222, 38, 47], [155,145, 20, 99]]\n",
    "# 2차원 배열의 중앙값을 추출\n",
    "\n",
    "result = []\n",
    "\n",
    "for i in range(len(array)): # 1차원 변경\n",
    "    for j in range(len(array[i])):\n",
    "        result.append(array[i][j])\n",
    "\n",
    "print('1차원 정렬:', result)\n",
    "\n",
    "def insertion_sort(arr): # 오름차순 정렬\n",
    "    n = len(arr)\n",
    "    for end in range(1,n):\n",
    "        for cur in range(end,0,-1):\n",
    "            if arr[cur-1] > arr[cur]:\n",
    "                arr[cur-1], arr[cur] = arr[cur], arr[cur-1]\n",
    "    return arr\n",
    "\n",
    "result = insertion_sort(result)\n",
    "print('오름차순 정렬:', result)\n",
    "\n",
    "def get_median(arr):\n",
    "    centerIndex = len(arr) // 2 # 가운데 인덱스 구하기\n",
    "    return (arr[centerIndex])\n",
    "result = get_median(result)\n",
    "print('중앙값:', result)"
   ]
  },
  {
   "cell_type": "code",
   "execution_count": null,
   "metadata": {},
   "outputs": [],
   "source": [
    "# 1. n x n 마방진 만들기 (n은 홀수)\n",
    "# 2. 첫번째 열의 가운데 행을 1로 채움\n",
    "# 3. \n",
    "#     3-1. 해당 위치에서 한 칸 왼쪽, 한 칸 위쪽으로 이동\n",
    "#     3-2. 칸을 벗어나면 그 줄의 반대쪽으로 이동\n",
    "#     3-3. 이동할 위치에 숫자가 이미 있으면 한 칸 아래로 이동\n",
    "#     3-4. 이동할 위치에 숫자가 없으면 이동해서 숫자를 채움\n",
    "#     위 과정을 반복\n",
    "# 4. 만약 5x5 마방진이면 1 부터 25까지의 숫자로 채움\n",
    "\n"
   ]
  },
  {
   "cell_type": "code",
   "execution_count": 2,
   "metadata": {},
   "outputs": [
    {
     "name": "stdout",
     "output_type": "stream",
     "text": [
      "[[0, 0, 0], [0, 0, 0], [0, 0, 0]]\n",
      "[0, 0, 0, 0, 0, 0, 0, 0, 0]\n"
     ]
    }
   ],
   "source": [
    "# 리스트 내포\n",
    "magic = [ [0 for _ in range(3)] for _ in range(3) ]\n",
    "print(magic)\n",
    "\n",
    "# 2차원을 1차원으로\n",
    "arr = [col for row in magic for col in row]\n",
    "print(arr)"
   ]
  }
 ],
 "metadata": {
  "kernelspec": {
   "display_name": "base",
   "language": "python",
   "name": "python3"
  },
  "language_info": {
   "codemirror_mode": {
    "name": "ipython",
    "version": 3
   },
   "file_extension": ".py",
   "mimetype": "text/x-python",
   "name": "python",
   "nbconvert_exporter": "python",
   "pygments_lexer": "ipython3",
   "version": "3.9.13"
  },
  "orig_nbformat": 4,
  "vscode": {
   "interpreter": {
    "hash": "ad2bdc8ecc057115af97d19610ffacc2b4e99fae6737bb82f5d7fb13d2f2c186"
   }
  }
 },
 "nbformat": 4,
 "nbformat_minor": 2
}
