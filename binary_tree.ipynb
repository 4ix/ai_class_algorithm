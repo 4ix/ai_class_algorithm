{
 "cells": [
  {
   "cell_type": "code",
   "execution_count": null,
   "id": "43cb5744",
   "metadata": {},
   "outputs": [],
   "source": [
    "# 이진 트리 구성\n",
    "class TreeNode:\n",
    "    def __init__(self):\n",
    "        self.left = None\n",
    "        self.data = None\n",
    "        self.right = None"
   ]
  },
  {
   "cell_type": "code",
   "execution_count": null,
   "id": "471a3e4c",
   "metadata": {},
   "outputs": [],
   "source": [
    "node1 = TreeNode()   # 빈 노드 생성\n",
    "node1.data = '화사'  # 처음 노드 생성\n",
    "\n",
    "node2 = TreeNode()\n",
    "node2.data = '솔라'  # 두번째 노드 -> 처음 노드의 왼쪽 child로 연결\n",
    "node1.left = node2\n",
    "\n",
    "node3 = TreeNode() \n",
    "node3.data = '문별'  # 세번째 노드 -> 처음 노드의 오른쪽 child로 연결\n",
    "node1.right = node3\n",
    "\n",
    "node4 = TreeNode() \n",
    "node4.data = '휘인'  # 네번째 노드 -> node2노드의 왼쪽 child로 연결\n",
    "node2.left = node4\n",
    "\n",
    "# 다섯번째 노드 -> 쯔위 node2노드의 오른쪽 child로 연결\n",
    "node5 = TreeNode() \n",
    "node5.data = '쯔위'  \n",
    "node2.right = node5\n",
    "\n",
    "# 여섯번째 노드 -> 선미 node3노드의 왼쪽 child로 연결\n",
    "node6 = TreeNode() \n",
    "node6.data = '선미'  \n",
    "node3.left = node6"
   ]
  },
  {
   "cell_type": "code",
   "execution_count": null,
   "id": "ca51cb09",
   "metadata": {},
   "outputs": [],
   "source": [
    "print(node1.data, end=' ')   # 화사\n",
    "print()\n",
    "print(node1.left.data, node1.right.data, end=' ') # 솔라 문별\n",
    "print()\n",
    "print(node1.left.left.data, node1.left.right.data, \n",
    "      node1.right.left.data, end=' ')  # 휘인, 쯔위, 선미"
   ]
  },
  {
   "cell_type": "code",
   "execution_count": 1,
   "id": "9fa01ace",
   "metadata": {},
   "outputs": [],
   "source": [
    "def preorder(node):\n",
    "    if node == None:\n",
    "        return\n",
    "    print(node.data, end=' -> ')\n",
    "    preorder(node.left)\n",
    "    preorder(node.right)\n",
    "    \n",
    "def inorder(node):\n",
    "    if node == None:\n",
    "        return\n",
    "    inorder(node.left)\n",
    "    print(node.data, end=' -> ')    \n",
    "    inorder(node.right)    \n",
    "    \n",
    "def postorder(node):\n",
    "    if node == None:\n",
    "        return\n",
    "    postorder(node.left) \n",
    "    postorder(node.right)  \n",
    "    print(node.data, end=' -> ')  "
   ]
  },
  {
   "cell_type": "code",
   "execution_count": null,
   "id": "0bdca1c6",
   "metadata": {},
   "outputs": [],
   "source": [
    "print('preorder : ', end=' : ')\n",
    "preorder(node1)\n",
    "print('end')\n",
    "\n",
    "print('inorder : ', end=' : ')\n",
    "inorder(node1)\n",
    "print('end')\n",
    "\n",
    "print('postorder : ', end=' : ')\n",
    "postorder(node1)\n",
    "print('end')"
   ]
  },
  {
   "cell_type": "code",
   "execution_count": null,
   "id": "620538ee",
   "metadata": {},
   "outputs": [],
   "source": [
    "# node 생성\n",
    "# root = None\n",
    "# left, data, right로 class 생성\n",
    "# 자료 입력 -> 트리 생성, 입력의 끝은 자료에 'q'가 입력 되면 트리 생성 종료\n",
    "# 트리의 내용 출력 -> preorder 형식으로 출력"
   ]
  },
  {
   "cell_type": "code",
   "execution_count": 9,
   "id": "8e618643",
   "metadata": {},
   "outputs": [
    {
     "name": "stdout",
     "output_type": "stream",
     "text": [
      "입력된 자료 출력\n",
      "dd -> dde -> qw -> "
     ]
    }
   ],
   "source": [
    "class TreeNode():\n",
    "    def __init__(self):\n",
    "        self.left = None\n",
    "        self.data = None\n",
    "        self.right = None\n",
    "\n",
    "def create_tree(node):\n",
    "    global root\n",
    "\n",
    "    if root == None: # 루트가 비었으면 최초로 하나 새로 생성\n",
    "        root = node\n",
    "        return\n",
    "\n",
    "    curr = root\n",
    "    while True:  # 노드 추가\n",
    "        if node.data == curr.data: # 중복자료 체크\n",
    "            break\n",
    "        if node.data < curr.data:\n",
    "            if curr.left == None:\n",
    "                curr.left = node\n",
    "                break\n",
    "            curr = curr.left\n",
    "        else:\n",
    "            if curr.right == None:\n",
    "                curr.right = node\n",
    "                break\n",
    "            curr = curr.right\n",
    "\n",
    "root = None\n",
    "\n",
    "while True:\n",
    "    data = input('자료 입력 >')\n",
    "    if data == 'q':\n",
    "        break\n",
    "    node = TreeNode()\n",
    "    node.data = data\n",
    "    create_tree(node)\n",
    "\n",
    "print('입력된 자료 출력')\n",
    "preorder(root)"
   ]
  }
 ],
 "metadata": {
  "kernelspec": {
   "display_name": "base",
   "language": "python",
   "name": "python3"
  },
  "language_info": {
   "codemirror_mode": {
    "name": "ipython",
    "version": 3
   },
   "file_extension": ".py",
   "mimetype": "text/x-python",
   "name": "python",
   "nbconvert_exporter": "python",
   "pygments_lexer": "ipython3",
   "version": "3.9.13"
  },
  "vscode": {
   "interpreter": {
    "hash": "ad2bdc8ecc057115af97d19610ffacc2b4e99fae6737bb82f5d7fb13d2f2c186"
   }
  }
 },
 "nbformat": 4,
 "nbformat_minor": 5
}
