{
 "cells": [
  {
   "cell_type": "code",
   "execution_count": 29,
   "metadata": {},
   "outputs": [],
   "source": [
    "# 순차 처리(처음부터 끝까지 검색)\n",
    "def seqSearch(array, data):\n",
    "    position = []\n",
    "    size = len(array)\n",
    "\n",
    "    for i in range(size):\n",
    "        if array[i] == data:\n",
    "            position.append(i)\n",
    "    return position"
   ]
  },
  {
   "cell_type": "code",
   "execution_count": 31,
   "metadata": {},
   "outputs": [
    {
     "name": "stdout",
     "output_type": "stream",
     "text": [
      "50의 위치는 [1, 4, 9, 10, 11] 에 있음\n"
     ]
    }
   ],
   "source": [
    "array = [188, 50, 150, 168, 50, 162, 105, 120, 177, 50, 50, 50]\n",
    "print('50의 위치는', seqSearch(array, 50), '에 있음')"
   ]
  },
  {
   "cell_type": "code",
   "execution_count": 61,
   "metadata": {},
   "outputs": [],
   "source": [
    "# Quick Sort -> 중간 지점을 선택 후 작은 값은 왼쪽, 큰 값은 오른쪽\n",
    "# 정렬 후 병합\n",
    "\n",
    "def QuickSort(array):\n",
    "    n = len(array)\n",
    "    if n<=1:\n",
    "        return array # 최종적으로 정렬된 배열 반환\n",
    "    pivot = array[n//2] # 기준이 되는 중간 값 선택\n",
    "    left_array, right_array, mid_array = [],[],[] # 빈 배열 생성\n",
    "    for num in array: #배열의 값 가져오기\n",
    "        if num < pivot:\n",
    "            left_array.append(num)\n",
    "        elif num > pivot:\n",
    "            right_array.append(num)\n",
    "        else: ## 중앙값이 중복된다면... 중앙 배열에 추가\n",
    "            mid_array.append(num)\n",
    "    return QuickSort(left_array) + mid_array + QuickSort(right_array)\n"
   ]
  },
  {
   "cell_type": "code",
   "execution_count": 160,
   "metadata": {},
   "outputs": [
    {
     "name": "stdout",
     "output_type": "stream",
     "text": [
      "91425 는 91480 위치에 있음\n",
      "## 15 회 검색함\n"
     ]
    }
   ],
   "source": [
    "import random\n",
    "# quick sort 한 후 \n",
    "# bianry serach\n",
    "def binarySearch(array, data):\n",
    "    global cnt\n",
    "    start = 0\n",
    "    end = len(array)-1\n",
    "    while start <= end:\n",
    "        cnt += 1\n",
    "        mid = (start+end)//2 # 중앙위치\n",
    "        if data == array[mid]:\n",
    "            return mid\n",
    "        elif data > array[mid]:\n",
    "            start = mid + 1\n",
    "        else:\n",
    "            end = mid -1\n",
    "    return -1\n",
    "\n",
    "array = [random.randint(0,100000) for i in range(100000)]\n",
    "# print(array)\n",
    "\n",
    "array = QuickSort(array)\n",
    "# print(array)\n",
    "\n",
    "number = random.randint(0,100000)\n",
    "cnt = 0\n",
    "result = binarySearch(array, number)\n",
    "if result == -1:\n",
    "    print('자료 없음')\n",
    "else:\n",
    "    print(number,'는', result,'위치에 있음')\n",
    "print('##', cnt, '회 검색함')"
   ]
  }
 ],
 "metadata": {
  "kernelspec": {
   "display_name": "base",
   "language": "python",
   "name": "python3"
  },
  "language_info": {
   "codemirror_mode": {
    "name": "ipython",
    "version": 3
   },
   "file_extension": ".py",
   "mimetype": "text/x-python",
   "name": "python",
   "nbconvert_exporter": "python",
   "pygments_lexer": "ipython3",
   "version": "3.9.13"
  },
  "orig_nbformat": 4,
  "vscode": {
   "interpreter": {
    "hash": "ad2bdc8ecc057115af97d19610ffacc2b4e99fae6737bb82f5d7fb13d2f2c186"
   }
  }
 },
 "nbformat": 4,
 "nbformat_minor": 2
}
