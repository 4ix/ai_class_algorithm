{
 "cells": [
  {
   "cell_type": "code",
   "execution_count": null,
   "metadata": {},
   "outputs": [],
   "source": [
    "# stack size 입력 받음\n",
    "# stack size 만큼 빈 리스트 생성\n",
    "# 1. push() -> 스택에 넣을 자료 입력하는 함수 생성\n",
    "# 2. pop() -> 스택에 가장 나중에 넣은 자료 꺼냄, 꺼낸 위치의 자료에는 None 입력\n",
    "# 3. list() -> 스택 자료 출력\n",
    "# 스택의 가장 마지막 위치는 top 으로 설정 -> 초기값은 top = -1"
   ]
  },
  {
   "cell_type": "code",
   "execution_count": null,
   "metadata": {},
   "outputs": [],
   "source": [
    "def menu_prt():\n",
    "    print(' 1. 자료입력 -> ')\n",
    "    print(' 2. 자료삭제 ')\n",
    "    print(' 3. 전체 자료 조회  ')  \n",
    "    print(' 4. 마지막 자료 조회  ')  \n",
    "    print(' 9. 프로그램 종료 ')  \n",
    "    print('==================================')    \n",
    "    print('선택 > ',end='')\n",
    "    menu = input()\n",
    "    return menu"
   ]
  },
  {
   "cell_type": "code",
   "execution_count": null,
   "metadata": {},
   "outputs": [],
   "source": [
    "def creat_stack():\n",
    "    global STACK, SIZE\n",
    "    for _ in range(SIZE):\n",
    "        STACK.append(None)\n",
    "\n",
    "def stack_is_empty():\n",
    "    if TOP == -1:\n",
    "        return True\n",
    "    else:\n",
    "        return False\n",
    "\n",
    "def stack_is_full():\n",
    "    if TOP == len(STACK) - 1:\n",
    "        return True\n",
    "    else:\n",
    "        return False\n"
   ]
  },
  {
   "cell_type": "code",
   "execution_count": null,
   "metadata": {},
   "outputs": [],
   "source": [
    "def push():\n",
    "    global TOP\n",
    "    if stack_is_full():\n",
    "        print('스택에 넣을 위치 없음')\n",
    "        return\n",
    "    TOP += 1\n",
    "    STACK[TOP] = input('자료 입력 > ')\n",
    "\n",
    "def pop():\n",
    "    global TOP    \n",
    "    if stack_is_empty():\n",
    "        print('스택에 자료 없음')\n",
    "        return\n",
    "        \n",
    "    print(\"스택의 마지막 자료: \", STACK[TOP])\n",
    "    data = STACK[TOP]\n",
    "    STACK[TOP] = None\n",
    "    TOP -= 1\n",
    "    return data\n",
    "\n",
    "def peek():\n",
    "    if stack_is_empty():\n",
    "        print('스택에 자료 없음')\n",
    "        return None\n",
    "    print(STACK[TOP])\n",
    "\n",
    "def stack_list():\n",
    "    if stack_is_empty():\n",
    "        print('스택에 자료 없음')\n",
    "        return\n",
    "\n",
    "    for i in range(TOP+1):\n",
    "        print(f'스택의 {i}의 값 -> {STACK[i]}')"
   ]
  },
  {
   "cell_type": "code",
   "execution_count": null,
   "metadata": {},
   "outputs": [],
   "source": [
    "TOP = -1\n",
    "SIZE = int(input('스택 사이즈 입력 >'))\n",
    "STACK = []\n",
    "creat_stack()\n",
    "\n",
    "while True:\n",
    "    menu = menu_prt()\n",
    "    if menu == '1':\n",
    "        push()\n",
    "    elif menu == '2':   \n",
    "        pop()\n",
    "    elif menu == '3':\n",
    "        stack_list()\n",
    "    elif menu == '4':\n",
    "        peek()\n",
    "    elif menu == '9':\n",
    "        break"
   ]
  },
  {
   "cell_type": "code",
   "execution_count": 40,
   "metadata": {},
   "outputs": [
    {
     "name": "stdout",
     "output_type": "stream",
     "text": [
      "\n",
      ".다리오리드내보 이고 이없말\n",
      "는에때 실가\n",
      " 워겨역 가기보 나\n",
      "꽃래달진\n",
      "\n"
     ]
    }
   ],
   "source": [
    "# stack 연습 문제\n",
    "content = '''\n",
    "진달래꽃\n",
    "나 보기가 역겨워 \n",
    "가실 때에는\n",
    "말없이 고이 보내드리오리다.\n",
    "'''\n",
    "TOP = -1\n",
    "SIZE = len(content)\n",
    "STACK = []\n",
    "creat_stack() ## 생성\n",
    "REVERSE =[]\n",
    "for i in range(len(content)):\n",
    "    TOP += 1\n",
    "    STACK[TOP] = content[i] ## 푸시\n",
    "for i in range(len(content)):\n",
    "    data = STACK[TOP]\n",
    "    STACK[TOP] = None\n",
    "    TOP -= 1\n",
    "    REVERSE.append(data)\n",
    "s = ''.join(REVERSE)\n",
    "print(s) ## 출력"
   ]
  }
 ],
 "metadata": {
  "kernelspec": {
   "display_name": "base",
   "language": "python",
   "name": "python3"
  },
  "language_info": {
   "codemirror_mode": {
    "name": "ipython",
    "version": 3
   },
   "file_extension": ".py",
   "mimetype": "text/x-python",
   "name": "python",
   "nbconvert_exporter": "python",
   "pygments_lexer": "ipython3",
   "version": "3.9.13"
  },
  "orig_nbformat": 4,
  "vscode": {
   "interpreter": {
    "hash": "ad2bdc8ecc057115af97d19610ffacc2b4e99fae6737bb82f5d7fb13d2f2c186"
   }
  }
 },
 "nbformat": 4,
 "nbformat_minor": 2
}
