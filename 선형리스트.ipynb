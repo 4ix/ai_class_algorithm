{
 "cells": [
  {
   "cell_type": "code",
   "execution_count": 49,
   "metadata": {},
   "outputs": [
    {
     "name": "stdout",
     "output_type": "stream",
     "text": [
      "['다현', '정연', '쯔위', '사나', '지효', '모모']\n"
     ]
    }
   ],
   "source": [
    "# 선형 리스트 -> 마지막에 자료 추가\n",
    "kakao = [] # 빈 리스트 생성\n",
    "\n",
    "def add_data(friend):\n",
    "    kakao.append(None) # 빈 리스트 추가\n",
    "    kakao[len(kakao)-1] = friend # 리스트의 마지막에 데이터 추가\n",
    "    # kakao.append(friend)\n",
    "\n",
    "add_data('다현')\n",
    "add_data('정연')\n",
    "add_data('쯔위')\n",
    "add_data('사나')\n",
    "add_data('지효')\n",
    "add_data('모모')\n",
    "\n",
    "print(kakao)"
   ]
  },
  {
   "cell_type": "code",
   "execution_count": null,
   "metadata": {},
   "outputs": [],
   "source": [
    "# 선형 리스트 -> insert (위치, 데이터)\n",
    "def insert_data(position, friend):\n",
    "    if position < 0 or position > len(kakao):\n",
    "        print('리스트의 범위를 벗어남')\n",
    "        return\n",
    "    kakao.append(None) # 리스트에 빈칸 추가\n",
    "    for i in range(len(kakao)-1, position, -1): # 뒤에서 부터 position 까지\n",
    "        kakao[i] = kakao[i-1]\n",
    "        kakao[i-1] = None\n",
    "    kakao[position] = friend # 원하는 위치에 자료 추가\n",
    "\n",
    "insert_data(2, '솔라')\n",
    "print(kakao)"
   ]
  },
  {
   "cell_type": "code",
   "execution_count": null,
   "metadata": {},
   "outputs": [],
   "source": [
    "# 선형 리스트 -> delete(위치)\n",
    "def delete_data(position):\n",
    "    if position < 0 or position > len(kakao):\n",
    "        print('리스트의 범위를 벗어남')\n",
    "        return\n",
    "    kakao[position] = None # 데이터 삭제\n",
    "    for i in range(position+1, len(kakao)):\n",
    "        kakao[i-1] = kakao[i]\n",
    "        kakao[i] = None\n",
    "    del(kakao[-1])\n",
    "delete_data(1)\n",
    "print(kakao)"
   ]
  },
  {
   "cell_type": "code",
   "execution_count": null,
   "metadata": {},
   "outputs": [],
   "source": [
    "kakao"
   ]
  },
  {
   "cell_type": "code",
   "execution_count": null,
   "metadata": {},
   "outputs": [],
   "source": [
    "# single_linked_list : data, link가 필요\n",
    "class Node:\n",
    "    def __init__(self):\n",
    "        self.data = None\n",
    "        self.link = None\n",
    "\n",
    "node1 = Node()\n",
    "node1.data = '다현'\n",
    "\n",
    "node2 = Node()\n",
    "node2.data = '정연'\n",
    "node1.link = node2\n",
    "\n",
    "node3 = Node()\n",
    "node3.data = '쯔위'\n",
    "node2.link = node3\n",
    "\n",
    "node = node1 #head\n",
    "while node:\n",
    "    print(node.data)\n",
    "    node = node.link\n",
    "\n",
    "print()\n",
    "print(node1.data, node1.link.data, node1.link.link.data)"
   ]
  },
  {
   "cell_type": "code",
   "execution_count": 50,
   "metadata": {},
   "outputs": [],
   "source": [
    "# 단순 연결 리스트: 삽입, 삭제\n",
    "class Node:\n",
    "    def __init__(self):\n",
    "        self.data = None\n",
    "        self.link = None\n",
    "\n",
    "def insert_node(f_data, node):\n",
    "    f_node = head\n",
    "    while f_node:\n",
    "        if f_node.data == f_data: # 입력한 자료의 node 검색\n",
    "            node.link = f_node.link # 삽입할 자료의 link에 추가될 node 저장\n",
    "            f_node.link = node\n",
    "            return\n",
    "        else:\n",
    "            f_node = f_node.link\n",
    "\n",
    "def delete_node(data):\n",
    "    global head\n",
    "    if head.data == data: # 삭제할 자료가 처음 자료이면\n",
    "        head = head.link\n",
    "        return\n",
    "    \n",
    "    node = head.link # 삭제할 자료가 중간에 있으면\n",
    "    prev_node = head\n",
    "    while node.link:\n",
    "        if data == node.data:\n",
    "            prev_node.link = node.link\n",
    "            del node # 메모리 삭제\n",
    "            return\n",
    "        else:\n",
    "            prev_node = node\n",
    "            node = node.link\n",
    "    \n",
    "    if node.data == data: # 삭제할 자료가 마지막에 있으면\n",
    "        prev_node.link = None\n",
    "        del node\n",
    "    \n",
    "\n",
    "def get_last_node():\n",
    "    global head\n",
    "    node = head\n",
    "    while node.link: # 마지막 노드 검색\n",
    "        node = node.link\n",
    "    return node # 마지막 노드 반환\n",
    "\n",
    "def print_node():\n",
    "    global head\n",
    "    node = head\n",
    "    while node:\n",
    "        print(node.data)\n",
    "        node = node.link"
   ]
  },
  {
   "cell_type": "code",
   "execution_count": 51,
   "metadata": {},
   "outputs": [
    {
     "name": "stdout",
     "output_type": "stream",
     "text": [
      "다현\n",
      "정연\n",
      "쯔위\n",
      "사나\n",
      "지효\n",
      "모모\n"
     ]
    }
   ],
   "source": [
    "# kakao 자료를 Node에 삽입 -> 마지막에 자료 추가\n",
    "node = Node()\n",
    "node.data = kakao[0]\n",
    "head = node #처음 노드 선언 방법\n",
    "for data in kakao[1:]:\n",
    "    node = Node() #새로운 노드 생성\n",
    "    node.data = data\n",
    "    last_node = get_last_node() #마지막 노드 검색\n",
    "    insert_node(last_node.data, node)\n",
    "\n",
    "print_node()"
   ]
  },
  {
   "cell_type": "code",
   "execution_count": 52,
   "metadata": {},
   "outputs": [
    {
     "name": "stdout",
     "output_type": "stream",
     "text": [
      "다현\n",
      "지혜\n",
      "정연\n",
      "쯔위\n",
      "사나\n",
      "지효\n",
      "모모\n"
     ]
    }
   ],
   "source": [
    "# head에 처음 자료 저장\n",
    "node = Node()\n",
    "node.data = '지혜'\n",
    "insert_node('다현', node)\n",
    "print_node()\n",
    "\n",
    "# insert_node(삽입할 위치자료, 삽입자료) -> ex) insert_node('다현','솔라') 다현 뒤에 솔라 추가\n",
    "# delete_node(삭제할 위치자료) # 솔라2 node 제거"
   ]
  },
  {
   "cell_type": "code",
   "execution_count": 53,
   "metadata": {},
   "outputs": [
    {
     "name": "stdout",
     "output_type": "stream",
     "text": [
      "다현\n",
      "정연\n",
      "쯔위\n",
      "사나\n",
      "지효\n",
      "모모\n",
      "정연\n",
      "쯔위\n",
      "사나\n",
      "지효\n",
      "모모\n",
      "정연\n",
      "쯔위\n",
      "사나\n",
      "지효\n"
     ]
    }
   ],
   "source": [
    "delete_node('지혜') # 중간값 제거\n",
    "print_node()\n",
    "delete_node('다현') # 처음값 제거\n",
    "print_node()\n",
    "delete_node('모모') # 마지막값 제거\n",
    "print_node()"
   ]
  }
 ],
 "metadata": {
  "kernelspec": {
   "display_name": "base",
   "language": "python",
   "name": "python3"
  },
  "language_info": {
   "codemirror_mode": {
    "name": "ipython",
    "version": 3
   },
   "file_extension": ".py",
   "mimetype": "text/x-python",
   "name": "python",
   "nbconvert_exporter": "python",
   "pygments_lexer": "ipython3",
   "version": "3.9.13"
  },
  "orig_nbformat": 4,
  "vscode": {
   "interpreter": {
    "hash": "ad2bdc8ecc057115af97d19610ffacc2b4e99fae6737bb82f5d7fb13d2f2c186"
   }
  }
 },
 "nbformat": 4,
 "nbformat_minor": 2
}
