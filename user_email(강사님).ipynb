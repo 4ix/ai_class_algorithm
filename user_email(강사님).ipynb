{
 "cells": [
  {
   "cell_type": "code",
   "execution_count": 1,
   "id": "36a28553",
   "metadata": {},
   "outputs": [],
   "source": [
    "# 사용자명과 이메일을 입력하여 이메일의 오름차순 정렬로 단순 링크드리스트 작성\n",
    "# 메뉴는 사용자 정보 등록과 등록된 사용자 목록 조회만 하세요\n",
    "\n",
    "class User:\n",
    "    def __init__(self):\n",
    "        self.data = []\n",
    "        self.link = None\n",
    "        \n",
    "head = None"
   ]
  },
  {
   "cell_type": "code",
   "execution_count": 2,
   "id": "2e8a99fc",
   "metadata": {},
   "outputs": [],
   "source": [
    "def select_menu():\n",
    "    print('==================================')\n",
    "    print('        사용자 관리 프로그램')\n",
    "    print(' 1. 사용자 정보 입력 ')\n",
    "    print(' 4. 사용자 정보 조회 ') \n",
    "    print(' 9. 프로그램 종료 ')  \n",
    "    print('==================================')    \n",
    "    print('선택 > ',end='')\n",
    "    menu = input()\n",
    "    return menu\n",
    "\n",
    "def user_insert_node(user):\n",
    "    global head\n",
    "    \n",
    "    if head == None:\n",
    "        head = user\n",
    "        return\n",
    "    curr_user = head\n",
    "    prev_user = head\n",
    "    while curr_user.link:\n",
    "        if curr_user.data[1] > user.data[1]:\n",
    "            if curr_user == head:\n",
    "                user.link = head    # head 앞으로 삽입할 경우 \n",
    "                head = user\n",
    "            else:\n",
    "                user.link = curr_user\n",
    "                prev_user.link = user\n",
    "            return\n",
    "        prev_user = curr_user\n",
    "        curr_user = curr_user.link   # 다음 자료로 이동\n",
    "    \n",
    "    if curr_user.data[1] > user.data[1]:\n",
    "        user.link = curr_user\n",
    "        prev_user.link = user\n",
    "    else:\n",
    "        curr_user.link = user\n",
    "        \n",
    "def user_insert():\n",
    "    while True:\n",
    "        name = input('이름 입력 -> ')\n",
    "        if not name:\n",
    "            return \n",
    "        email = input('이메일 입력 -> ')\n",
    "        user = User()\n",
    "        user.data.append(name)\n",
    "        user.data.append(email)\n",
    "        user_insert_node(user)\n",
    "        user_list()        \n",
    "        \n",
    "def user_list():\n",
    "    curr_user = head\n",
    "    while curr_user:\n",
    "        print(curr_user.data,end=' ')\n",
    "        curr_user = curr_user.link\n",
    "    print()"
   ]
  },
  {
   "cell_type": "code",
   "execution_count": 3,
   "id": "98f1a840",
   "metadata": {},
   "outputs": [
    {
     "name": "stdout",
     "output_type": "stream",
     "text": [
      "==================================\n",
      "        사용자 관리 프로그램\n",
      " 1. 사용자 정보 입력 \n",
      " 4. 사용자 정보 조회 \n",
      " 9. 프로그램 종료 \n",
      "==================================\n",
      "선택 > ['dsaf', 'adsff@ag.com'] \n",
      "['dsaf', 'adsff@ag.com'] ['adsf', 'dasf@adsf.com'] \n",
      "['adsf', '112@adsf.com'] ['dsaf', 'adsff@ag.com'] ['adsf', 'dasf@adsf.com'] \n",
      "==================================\n",
      "        사용자 관리 프로그램\n",
      " 1. 사용자 정보 입력 \n",
      " 4. 사용자 정보 조회 \n",
      " 9. 프로그램 종료 \n",
      "==================================\n",
      "선택 > ['adsf', '112@adsf.com'] ['dsaf', 'adsff@ag.com'] ['adsf', 'dasf@adsf.com'] \n",
      "==================================\n",
      "        사용자 관리 프로그램\n",
      " 1. 사용자 정보 입력 \n",
      " 4. 사용자 정보 조회 \n",
      " 9. 프로그램 종료 \n",
      "==================================\n",
      "선택 > "
     ]
    }
   ],
   "source": [
    "\n",
    "while True:\n",
    "    menu = select_menu()\n",
    "    if menu == '1':\n",
    "        user_insert()\n",
    "    elif menu == '4':\n",
    "        user_list()\n",
    "    elif menu == '9':\n",
    "        break "
   ]
  },
  {
   "cell_type": "code",
   "execution_count": null,
   "id": "5e6e8b51",
   "metadata": {},
   "outputs": [],
   "source": []
  }
 ],
 "metadata": {
  "kernelspec": {
   "display_name": "base",
   "language": "python",
   "name": "python3"
  },
  "language_info": {
   "codemirror_mode": {
    "name": "ipython",
    "version": 3
   },
   "file_extension": ".py",
   "mimetype": "text/x-python",
   "name": "python",
   "nbconvert_exporter": "python",
   "pygments_lexer": "ipython3",
   "version": "3.9.13 (main, Aug 25 2022, 23:51:50) [MSC v.1916 64 bit (AMD64)]"
  },
  "vscode": {
   "interpreter": {
    "hash": "ad2bdc8ecc057115af97d19610ffacc2b4e99fae6737bb82f5d7fb13d2f2c186"
   }
  }
 },
 "nbformat": 4,
 "nbformat_minor": 5
}
