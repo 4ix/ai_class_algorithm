{
 "cells": [
  {
   "cell_type": "code",
   "execution_count": null,
   "metadata": {},
   "outputs": [],
   "source": [
    "# 최소값의 위치 검색\n",
    "def find_min(list_a):\n",
    "    min_idx = 0\n",
    "    for idx in range(1,len(list_a)):\n",
    "        if list_a[idx] < list_a[min_idx]:\n",
    "            min_idx = idx\n",
    "    return min_idx\n",
    "\n",
    "# 최대값의 위치 검색\n",
    "def find_max(list_a):\n",
    "    max_idx = 0\n",
    "    for idx in range(1,len(list_a)):\n",
    "        if list_a[idx] > list_a[max_idx]:\n",
    "            max_idx = idx\n",
    "    return max_idx"
   ]
  },
  {
   "cell_type": "code",
   "execution_count": null,
   "metadata": {},
   "outputs": [],
   "source": [
    "list_a = [55, 33, 11, 88, 77, 999, -1]\n",
    "\n",
    "min_idx = find_min(list_a)\n",
    "max_idx = find_max(list_a)\n",
    "\n",
    "print(f'{list_a}의 최소값의 위치는 {min_idx}, 값은 {list_a[min_idx]}')\n",
    "print()\n",
    "print(f'{list_a}의 최대값의 위치는 {max_idx}, 값은 {list_a[max_idx]}')"
   ]
  },
  {
   "cell_type": "code",
   "execution_count": null,
   "metadata": {},
   "outputs": [],
   "source": [
    "# 선택 정렬 -> 오름차순으로 정렬, find_idx(list_a, sw='min')\n",
    "\n",
    "def find_idx(list_a, sw):\n",
    "    find_idx = 0\n",
    "    if sw == 'min':\n",
    "        for idx in range(1,len(list_a)):\n",
    "            if list_a[idx] < list_a[find_idx]:\n",
    "                find_idx = idx\n",
    "        return find_idx\n",
    "    elif sw == 'max':\n",
    "        for idx in range(1,len(list_a)):\n",
    "            if list_a[idx] > list_a[find_idx]:\n",
    "                find_idx = idx\n",
    "        return find_idx\n",
    "\n",
    "list_a = [55, 33, 11, 88, 77, 999, -1]\n",
    "\n",
    "min_idx = find_idx(list_a, sw='min')\n",
    "max_idx = find_idx(list_a, sw='max')\n",
    "\n",
    "print(f'{list_a}의 최소값의 위치는 {min_idx}, 값은 {list_a[min_idx]}')\n",
    "print()\n",
    "print(f'{list_a}의 최대값의 위치는 {max_idx}, 값은 {list_a[max_idx]}')\n",
    "print()"
   ]
  },
  {
   "cell_type": "code",
   "execution_count": null,
   "metadata": {},
   "outputs": [],
   "source": [
    "import random\n",
    "\n",
    "list_a = [random.randrange(1,200) for i in range(10)] # 리스트 a 랜덤으로 생성\n",
    "sorted = []\n",
    "\n",
    "num = input('min. 오름차순 / max. 내림차순 ')\n",
    "if num == 'min' or num == 'max':\n",
    "    print('정렬 전: ', list_a)\n",
    "    for _ in range(len(list_a)):\n",
    "        search_idx = find_idx(list_a, sw=num)\n",
    "        sorted.append(list_a[search_idx])\n",
    "        del(list_a[search_idx])\n",
    "    print(num, '정렬 후: ', sorted)\n",
    "    print()\n",
    "else:\n",
    "    print('종료')\n"
   ]
  },
  {
   "cell_type": "code",
   "execution_count": null,
   "metadata": {},
   "outputs": [],
   "source": [
    "list_arr = [random.randrange(1,200) for i in range(10)]\n",
    "sort_arr = []\n",
    "# 새로운 배열에 insertion sort로 구현\n",
    "\n",
    "def findInsertIdx(ary, data):\n",
    "    findIdx = -1\n",
    "    for i in range(0,len(ary)):\n",
    "        if (ary[i] < data):\n",
    "            findIdx = i\n",
    "            break\n",
    "    if findIdx == -1:\n",
    "        return len(ary)\n",
    "    else:\n",
    "        return findIdx\n",
    "print('정렬 전:', list_arr)\n",
    "\n",
    "for i in range(len(list_arr)):\n",
    "    idx = findInsertIdx(sort_arr, list_arr[i])\n",
    "    sort_arr.insert(idx, list_arr[i])\n",
    "\n",
    "print('정렬 후:',sort_arr)"
   ]
  },
  {
   "cell_type": "code",
   "execution_count": null,
   "metadata": {},
   "outputs": [],
   "source": [
    "def insertion_sort(arr):\n",
    "    n = len(arr)\n",
    "    for end in range(1,n):\n",
    "        for cur in range(end,0,-1):\n",
    "            if arr[cur-1] > arr[cur]:\n",
    "                arr[cur-1], arr[cur] = arr[cur], arr[cur-1]\n",
    "    return arr"
   ]
  },
  {
   "cell_type": "code",
   "execution_count": null,
   "metadata": {},
   "outputs": [],
   "source": [
    "# 배열을 하나로 유지하면서 insertion sort 구현:\n",
    "# 현재위치와 다음위치의 자료를 비교하여 위치 이동\n",
    "\n",
    "list_arr = [random.randrange(1,200) for i in range(10)]\n",
    "print('insertion sort before ->', list_arr)\n",
    "list_arr = insertion_sort(list_arr)\n",
    "print('insertion sort after ->', list_arr)\n",
    "\n"
   ]
  },
  {
   "cell_type": "code",
   "execution_count": null,
   "metadata": {},
   "outputs": [],
   "source": [
    "# 디렉토리의 파일명을 정렬해서 출력\n",
    "import os\n",
    "# list(os.walk('./')) # dirPath, subdir, file명 반환\n",
    "\n",
    "file_names = []\n",
    "for dirPath, subDir, files in os.walk('./'):\n",
    "    for file in files:\n",
    "        file_names.append(files)\n",
    "\n",
    "print('insertion sort before ->', file_names)\n",
    "file_names = insertion_sort(file_names)\n",
    "print('insertion sort after ->', file_names)"
   ]
  }
 ],
 "metadata": {
  "kernelspec": {
   "display_name": "base",
   "language": "python",
   "name": "python3"
  },
  "language_info": {
   "codemirror_mode": {
    "name": "ipython",
    "version": 3
   },
   "file_extension": ".py",
   "mimetype": "text/x-python",
   "name": "python",
   "nbconvert_exporter": "python",
   "pygments_lexer": "ipython3",
   "version": "3.9.13 (main, Aug 25 2022, 23:51:50) [MSC v.1916 64 bit (AMD64)]"
  },
  "orig_nbformat": 4,
  "vscode": {
   "interpreter": {
    "hash": "ad2bdc8ecc057115af97d19610ffacc2b4e99fae6737bb82f5d7fb13d2f2c186"
   }
  }
 },
 "nbformat": 4,
 "nbformat_minor": 2
}
