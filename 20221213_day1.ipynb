{
 "cells": [
  {
   "cell_type": "code",
   "execution_count": 8,
   "metadata": {},
   "outputs": [
    {
     "name": "stdout",
     "output_type": "stream",
     "text": [
      "19  9  5  29  11  27  \n",
      "7  20  38  36  43  2  \n"
     ]
    }
   ],
   "source": [
    "# 1~45 숫자 중에서 6개를 고르는 로또번호 자동생성\n",
    "# 사용자가 입력한 개수만큼 로또번호 생성\n",
    "import random\n",
    "# 1. 사용자가 입력할 number : input\n",
    "count = int(input(\"생성하기 원하는 개수 입력 >\"))\n",
    "\n",
    "# 2. 로또 번호 6개 자동 생성 : for -> 1에서 입력한 number 만큼\n",
    "tot_lotto = []\n",
    "for _ in range(count):\n",
    "    lotto = []\n",
    "    cnt = 0\n",
    "    while True:\n",
    "        num = random.randint(1,45)\n",
    "        if not num in lotto:\n",
    "            lotto.append(num)\n",
    "            cnt += 1\n",
    "            if cnt >= 6:\n",
    "                break\n",
    "    tot_lotto.append(lotto)\n",
    "\n",
    "# 3. 생성된 로또 번호 출력\n",
    "for lotto in tot_lotto:\n",
    "    for data in lotto:\n",
    "        print(data, end='  ')\n",
    "    print()"
   ]
  },
  {
   "cell_type": "code",
   "execution_count": 14,
   "metadata": {},
   "outputs": [
    {
     "name": "stdout",
     "output_type": "stream",
     "text": [
      "가는 7회 나옴\n",
      "에는 4회 나옴\n",
      "리는 6회 나옴\n",
      "다는 4회 나옴\n",
      "{'가': 7, '에': 4, '리': 6, '다': 4}\n"
     ]
    }
   ],
   "source": [
    "# 김소월의 진달래꽃 시에서 4회 이상 나온 글자를 출력\n",
    "# 단, 영문/한글만 해당, 그 외는 세지 않음, 그 외는 세지 않음\n",
    "\n",
    "poet = '''\n",
    "나 보기가 역겨워 가실 때에는 말없이 고이 보내 드리오리다\n",
    "영변에 약산 진달래꽃 아름 따다 가실 길에 뿌리오리다\n",
    "가시는 걸음 걸음 놓인 그 꽃을 사뿐히 즈려 밟고 가시옵소서\n",
    "나 보기가 역겨워 가실 때에는 죽어도 아니 눈물 흘리오리다\n",
    " '''\n",
    "\n",
    "# 글자가 처음 나오면 딕셔너리에 글자를 키로, 나온 횟수는 1로 저장\n",
    "# 딕셔너리의 키에 글자가 존재하면 기존 횟수에 1을 증가시킴\n",
    "# 4회 이상 나온 글자와 횟수 출력\n",
    "\n",
    "char_cnt = {}\n",
    "for char in poet:\n",
    "    if char.isalpha():\n",
    "        if char in char_cnt:\n",
    "            char_cnt[char] += 1\n",
    "        else:\n",
    "            char_cnt[char] = 1\n",
    "\n",
    "for key, value in char_cnt.items():\n",
    "    if value >= 4:\n",
    "        print(f'{key}는 {value}회 나옴')\n",
    "\n",
    "prt_data = {key:value for key,value in char_cnt.items() if value >=4}\n",
    "print(prt_data)"
   ]
  }
 ],
 "metadata": {
  "kernelspec": {
   "display_name": "base",
   "language": "python",
   "name": "python3"
  },
  "language_info": {
   "codemirror_mode": {
    "name": "ipython",
    "version": 3
   },
   "file_extension": ".py",
   "mimetype": "text/x-python",
   "name": "python",
   "nbconvert_exporter": "python",
   "pygments_lexer": "ipython3",
   "version": "3.9.13"
  },
  "orig_nbformat": 4,
  "vscode": {
   "interpreter": {
    "hash": "ad2bdc8ecc057115af97d19610ffacc2b4e99fae6737bb82f5d7fb13d2f2c186"
   }
  }
 },
 "nbformat": 4,
 "nbformat_minor": 2
}
