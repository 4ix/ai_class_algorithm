{
 "cells": [
  {
   "cell_type": "code",
   "execution_count": null,
   "metadata": {},
   "outputs": [],
   "source": [
    "# 이중 링크드 리스트 작성\n",
    "# 처음 node 생성 시 -> HEAD에 node 저장 \n",
    "# 마지막에 node 삽입시 -> 마지막 노드 next에 node 저장, node.prev에 마지막 node 저장\n",
    "#                           TAIL <- node\n",
    "# 중간 node 삽입시 -> node의 next <- curr node, curr prev next <- node\n",
    "#                     node의 prev <- curr prev node, curr prev <- node\n",
    "#                       이전 노드의 next에 node 저장,\n",
    "#                           이전 노드의 next에 node 저장,\n",
    "# 처음 node 삽입시 -> HEAD의 prev <- node, node의 next <- HEAD, HEAD <- node"
   ]
  },
  {
   "cell_type": "code",
   "execution_count": null,
   "metadata": {},
   "outputs": [],
   "source": [
    "class Node:\n",
    "    # seq = 0\n",
    "    def __init__(self):\n",
    "        self.pre = None\n",
    "        self.data = {'name': None, 'score': None}\n",
    "        self.next = None\n",
    "\n",
    "HEAD = TAIL = None\n",
    "CNT = 0"
   ]
  },
  {
   "cell_type": "code",
   "execution_count": null,
   "metadata": {},
   "outputs": [],
   "source": [
    "def menu_prt():\n",
    "    print(' 1. 자료입력 -> ')\n",
    "    print(' 2. 자료삭제 ')\n",
    "    print(' 3. 자료 조회  ')  \n",
    "    print(' 9. 프로그램 종료 ')  \n",
    "    print('==================================')    \n",
    "    print('선택 > ',end='')\n",
    "    menu = input()\n",
    "    return menu"
   ]
  },
  {
   "cell_type": "code",
   "execution_count": null,
   "metadata": {},
   "outputs": [],
   "source": [
    "def add_node():\n",
    "    global HEAD, TAIL\n",
    "    # 생성\n",
    "    node = Node() # 빈 노드 생성\n",
    "    # node.data = input('자료 입력: ' ) # node.data 에 자료 입력\n",
    "    node.data['name'] = input('이름 입력: ' ) # node.data 에 자료 입력\n",
    "    node.data['score'] = input('점수 입력: ' ) # node.data 에 자료 입력\n",
    "\n",
    "    # 처음 node 생성 시 -> head에 node 저장\n",
    "    if HEAD == None:\n",
    "        HEAD = TAIL = node # HEAd, TAIL에 node 저장\n",
    "        return\n",
    "\n",
    "    elif HEAD.data['score'] > node.data['score']: # 1) HEAD 앞에 삽입하는 경우 (맨 앞에 삽입)\n",
    "        HEAD.pre = node\n",
    "        node.next = HEAD\n",
    "        HEAD = node\n",
    "        return\n",
    "    \n",
    "    curr = HEAD\n",
    "    while curr.next != HEAD: #2) 중간에 삽입하는 경우 / 현재 node(curr)의 next값이 HEAD가 아니면 수행 \n",
    "        if curr.data['score'] > node.data['score']: # 현재 node(curr)의 data 값이 node의 data값 보다 클 때\n",
    "            node.next = curr # 삽입 node.next에 현재 node(curr) 저장\n",
    "            curr.prev = node # 이전 prev.next에 node 저장\n",
    "            node.prev = curr.prev\n",
    "            return\n",
    "        prev = curr # 현재 node를 prev로 저장\n",
    "        curr = curr.next # 다음 node로 이동\n",
    "\n",
    "        \n",
    "    # 3) 마지막에 노드 삽입 경우( 마지막 node.next에 node 저장 / node.next 에 head 저장)\n",
    "    if curr.data['score'] > node.data['score']: # 현재 node(curr)의 data 값이 node의 data값 보다 클 때\n",
    "        # 중간 삽입\n",
    "        node.next = curr # 삽입 node.next에 현재 node(curr) 저장\n",
    "        prev.next = node # 이전 prev.next에 node 저장\n",
    "        return\n",
    "    else:\n",
    "        last.next = node\n",
    "        node.prev = last\n",
    "        TAIL = node"
   ]
  },
  {
   "cell_type": "code",
   "execution_count": null,
   "metadata": {},
   "outputs": [],
   "source": [
    "def del_node():\n",
    "    global HEAD, CNT\n",
    "    name = input('삭제할 자료 입력 -> ')\n",
    "    # 처음 node 삭제 -> HEAD = HEAD.next\n",
    "    # 마지막 node.next 에 HEAD.next \n",
    "    if HEAD.data['name'] == name:\n",
    "        CNT -= 1\n",
    "        last = HEAD\n",
    "        while last.next != HEAD:  # 마지막 node 검색\n",
    "            last = last.next    \n",
    "        if last == HEAD: # 노드가 1개 있을 때 삭제할 경우\n",
    "            HEAD = None\n",
    "            CNT = 0\n",
    "            del last\n",
    "        else:\n",
    "            del last.next  # 메모리 삭제\n",
    "            HEAD = last.next = HEAD.next           \n",
    "        return\n",
    "    \n",
    "    curr = HEAD\n",
    "    while curr.next != HEAD:\n",
    "        # 중간 node 삭제 -> prev.next = curr.next\n",
    "        if curr.data['name'] == name:\n",
    "            CNT -= 1\n",
    "            prev.next = curr.next\n",
    "            del curr     # curr node 메모리 삭제\n",
    "            return\n",
    "        \n",
    "        prev = curr\n",
    "        curr = curr.next\n",
    "        \n",
    "    # 마지막 node 삭제  -> prev.next = curr.next\n",
    "    if curr.data['name'] == name:\n",
    "        CNT -= 1\n",
    "        prev.next = curr.next\n",
    "        del curr    # curr node 메모리 삭제\n",
    "        return"
   ]
  },
  {
   "cell_type": "code",
   "execution_count": null,
   "metadata": {},
   "outputs": [],
   "source": [
    "def list_node(reverse = False):\n",
    "    global HEAD, TAIL\n",
    "    if HEAD == None:\n",
    "        return\n",
    "        \n",
    "    if reverse:\n",
    "        curr = TAIL\n",
    "    else:\n",
    "        curr = HEAD\n",
    "\n",
    "    while curr:\n",
    "        print(f\"{curr.data['name']} : {curr.data['score']}\")\n",
    "        if reverse:\n",
    "            curr = curr.prev\n",
    "        else:\n",
    "            curr = curr.next"
   ]
  },
  {
   "cell_type": "code",
   "execution_count": null,
   "metadata": {},
   "outputs": [],
   "source": [
    "while True:\n",
    "    menu = menu_prt()\n",
    "    if menu == '1':\n",
    "        add_node()\n",
    "    elif menu == '2':   \n",
    "        del_node()\n",
    "    elif menu == '3':\n",
    "        list_node()\n",
    "    elif menu == '9':\n",
    "        break"
   ]
  }
 ],
 "metadata": {
  "kernelspec": {
   "display_name": "Python 3 (ipykernel)",
   "language": "python",
   "name": "python3"
  },
  "language_info": {
   "codemirror_mode": {
    "name": "ipython",
    "version": 3
   },
   "file_extension": ".py",
   "mimetype": "text/x-python",
   "name": "python",
   "nbconvert_exporter": "python",
   "pygments_lexer": "ipython3",
   "version": "3.9.13"
  },
  "vscode": {
   "interpreter": {
    "hash": "ad2bdc8ecc057115af97d19610ffacc2b4e99fae6737bb82f5d7fb13d2f2c186"
   }
  }
 },
 "nbformat": 4,
 "nbformat_minor": 2
}
