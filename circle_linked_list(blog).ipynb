{
 "cells": [
  {
   "cell_type": "code",
   "execution_count": 1,
   "metadata": {},
   "outputs": [],
   "source": [
    "memory = []\n",
    "head, current, pre = None, None, None"
   ]
  },
  {
   "cell_type": "code",
   "execution_count": 2,
   "metadata": {},
   "outputs": [],
   "source": [
    "class Node():\n",
    "    def __init__(self): # 생성자 함수: 데이터형을 생성할 때 자동으로 실행\n",
    "        self.data = None\n",
    "        self.link = None"
   ]
  },
  {
   "cell_type": "code",
   "execution_count": null,
   "metadata": {},
   "outputs": [],
   "source": [
    "## 노드 초기화 방법\n",
    "# 첫번째 데이터\n",
    "node = Node() # 빈 노드 생성\n",
    "node.data = dataArray[0] # 첫번째 노드\n",
    "head = node # head 에 node를 넣고\n",
    "node.link = head # node.link에 head를 넣음\n",
    "memory.append(node)\n",
    "\n",
    "# 두번째 이후 데이터\n",
    "pre = node\n",
    "node = Node() # 빈 노드 생성\n",
    "node.data = data # 두 번째 이후 노드\n",
    "pre.link = node # pre.link에 node를 넣고\n",
    "node.link = head # node.link에 head를 넣음\n",
    "memory.append(node)"
   ]
  },
  {
   "cell_type": "code",
   "execution_count": null,
   "metadata": {},
   "outputs": [],
   "source": [
    "## 노드 삽입 방법\n",
    "# 1) 맨 앞에 삽입할 경우\n",
    "node = Node() #빈 노드 생성\n",
    "node.data = \"삽입하고자 하는 내용\"\n",
    "node.link = head\n",
    "last = head # 마지막 노드를 첫번째 노드로 우선 지정\n",
    "while 마지막 노드까지: # 마지막 노드를 찾으면 반복 종료\n",
    "    last = last.link # last를 다음 노드로 변경\n",
    "last.link = node # 마지막 노드의 링크에 새 노드 지정\n",
    "head = node\n",
    "\n",
    "# 2) 중간에 삽입할 경우\n",
    "current = head\n",
    "while 마지막 노드까지:\n",
    "    pre = current\n",
    "    current = current.link\n",
    "    \n",
    "\n",
    "\n",
    "# 3) 마지막에 삽입할 경우\n"
   ]
  }
 ],
 "metadata": {
  "kernelspec": {
   "display_name": "base",
   "language": "python",
   "name": "python3"
  },
  "language_info": {
   "codemirror_mode": {
    "name": "ipython",
    "version": 3
   },
   "file_extension": ".py",
   "mimetype": "text/x-python",
   "name": "python",
   "nbconvert_exporter": "python",
   "pygments_lexer": "ipython3",
   "version": "3.9.13"
  },
  "orig_nbformat": 4,
  "vscode": {
   "interpreter": {
    "hash": "ad2bdc8ecc057115af97d19610ffacc2b4e99fae6737bb82f5d7fb13d2f2c186"
   }
  }
 },
 "nbformat": 4,
 "nbformat_minor": 2
}
