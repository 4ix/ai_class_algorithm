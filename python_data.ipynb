{
 "cells": [
  {
   "cell_type": "code",
   "execution_count": 8,
   "metadata": {},
   "outputs": [],
   "source": [
    "# 파이썬의 연속된 자료형\n",
    "list_a = [1,1,2,3,4,5] # 리스트 -> list_a[1] -> 1\n",
    "dict_a = {'a':1, 'b':2, 'c':3} # 딕셔너리 -> dict_a['a'] -> 1\n",
    "set_a = {1,1,2,3,4} # 세트 -> set_a - > {1,2,3,4} ## 중복 없이 결과 출력"
   ]
  },
  {
   "cell_type": "code",
   "execution_count": 9,
   "metadata": {},
   "outputs": [
    {
     "name": "stdout",
     "output_type": "stream",
     "text": [
      "[1, 1, 2, 3, 4, 5]\n",
      "{'a': 1, 'b': 2, 'c': 3}\n",
      "{1, 2, 3, 4}\n"
     ]
    }
   ],
   "source": [
    "print(list_a)\n",
    "print(dict_a)\n",
    "print(set_a) # 중복 없이 결과 출력"
   ]
  },
  {
   "cell_type": "code",
   "execution_count": 10,
   "metadata": {},
   "outputs": [],
   "source": [
    "a = {1,2,3}\n",
    "b = {2,3,4}\n",
    "c = {1,1,1,2,2,2} # c-> {1,2}"
   ]
  },
  {
   "cell_type": "code",
   "execution_count": 15,
   "metadata": {},
   "outputs": [
    {
     "name": "stdout",
     "output_type": "stream",
     "text": [
      "{1, 2, 3, 4}\n",
      "{2, 3}\n",
      "{1}\n",
      "{1, 4}\n"
     ]
    }
   ],
   "source": [
    "print(a | b) # 합집합\n",
    "print(a & b) # 교집합\n",
    "print(a - b) # 차집합\n",
    "print(a ^ b) # 대칭 차집합(a에는 있고 b에는 없는 것 + b에는 있고 a에는 없는 것)\n"
   ]
  },
  {
   "cell_type": "code",
   "execution_count": 18,
   "metadata": {},
   "outputs": [
    {
     "name": "stdout",
     "output_type": "stream",
     "text": [
      "{'data', 'test', '123', '학교'}\n",
      "{'data', 'test', '123', '학교'}\n"
     ]
    }
   ],
   "source": [
    "conts = ['test','123','학교','data']\n",
    "# set() 에 자료 추가 -> set.add(값)\n",
    "\n",
    "set_list = set() # set 선언 방법(초기화)\n",
    "\n",
    "for data in conts:\n",
    "    set_list.add(data) # 하나씩 추가하는 방법\n",
    "print(set_list)\n",
    "\n",
    "set_b = set()\n",
    "set_b.update(conts) # list의 자료를 한꺼번에 set 데이터로 저장\n",
    "print(set_b)"
   ]
  },
  {
   "cell_type": "code",
   "execution_count": 28,
   "metadata": {},
   "outputs": [
    {
     "name": "stdout",
     "output_type": "stream",
     "text": [
      "list_a ->  [0, 4, 16, 36, 64]\n",
      "dict_a ->  {'a_0': 0, 'a_2': 4, 'a_4': 16, 'a_6': 36, 'a_8': 64}\n",
      "set_a ->  {0, 64, 4, 36, 16}\n"
     ]
    }
   ],
   "source": [
    "# 세트 내포와 딕셔너리 내포\n",
    "list_a = [ item * item for item in range(0,10) if item % 2 == 0 ]\n",
    "print('list_a -> ', list_a)\n",
    "\n",
    "dict_a = { f'a_{item}' : item * item for item in range(0,10) if item % 2 == 0 }\n",
    "print('dict_a -> ', dict_a)\n",
    "\n",
    "set_a = { item * item for item in range(0,10) if item % 2 == 0 }\n",
    "print('set_a -> ', set_a)"
   ]
  }
 ],
 "metadata": {
  "kernelspec": {
   "display_name": "base",
   "language": "python",
   "name": "python3"
  },
  "language_info": {
   "codemirror_mode": {
    "name": "ipython",
    "version": 3
   },
   "file_extension": ".py",
   "mimetype": "text/x-python",
   "name": "python",
   "nbconvert_exporter": "python",
   "pygments_lexer": "ipython3",
   "version": "3.9.13 (main, Aug 25 2022, 23:51:50) [MSC v.1916 64 bit (AMD64)]"
  },
  "orig_nbformat": 4,
  "vscode": {
   "interpreter": {
    "hash": "ad2bdc8ecc057115af97d19610ffacc2b4e99fae6737bb82f5d7fb13d2f2c186"
   }
  }
 },
 "nbformat": 4,
 "nbformat_minor": 2
}
