{
 "cells": [
  {
   "cell_type": "code",
   "execution_count": null,
   "id": "316cc43e",
   "metadata": {},
   "outputs": [],
   "source": [
    "# 1. 책이름, 작가명을 tree 구조로 생성: 책이름 순서로\n",
    "# 2. 책이름 입력: 작가명 검색\n",
    "# 3. 책이름 입력: 해당 자료 삭제"
   ]
  },
  {
   "cell_type": "code",
   "execution_count": 9,
   "id": "c753757b",
   "metadata": {},
   "outputs": [
    {
     "name": "stdout",
     "output_type": "stream",
     "text": [
      "입력된 자료 출력 :\n",
      "['어린왕자', '쌩떽쥐베리'] -> ['부활', '톨스토이'] -> ['돈키호테', '세브반테스'] -> ['데미안', '헤르만헤세'] -> ['대지', '펄벅'] -> ['동물농장', '조지오웰'] -> ['신곡', '단테'] -> ['이방인', '까뮈'] -> ['파우스트', '괴테'] -> end\n"
     ]
    }
   ],
   "source": [
    "class TreeNode():\n",
    "    def __init__(self):\n",
    "        self.left = None\n",
    "        self.data = None\n",
    "        self.right = None\n",
    "\n",
    "def preorder(node):\n",
    "    if node == None:\n",
    "        return\n",
    "    print(node.data, end=' -> ')\n",
    "    preorder(node.left)\n",
    "    preorder(node.right)\n",
    "\n",
    "def search_node(name):\n",
    "    pass\n",
    "\n",
    "root = None\n",
    "\n",
    "books = [ ['어린왕자', '쌩떽쥐베리'],['이방인', '까뮈'], ['부활', '톨스토이'],\n",
    "['신곡', '단테'], ['돈키호테', '세브반테스'], ['동물농장', '조지오웰'],\n",
    "['데미안','헤르만헤세'], ['파우스트', '괴테'], ['대지', '펄벅'] ]\n",
    "\n",
    "node = TreeNode()\n",
    "node.data = books[0]\n",
    "root = node\n",
    "\n",
    "for book in books[1:]:\n",
    "    node = TreeNode()\n",
    "    node.data = book\n",
    "\n",
    "# 생성 방법\n",
    "    current = root\n",
    "    while True:\n",
    "        if book < current.data:\n",
    "            if current.left == None:\n",
    "                current.left = node\n",
    "                break\n",
    "            current = current.left\n",
    "        else:\n",
    "            if current.right == None:\n",
    "                current.right = node\n",
    "                break\n",
    "            current = current.right\n",
    "\n",
    "print('입력된 자료 출력 :')\n",
    "preorder(root)\n",
    "print('end')\n",
    "\n",
    "\n",
    "# # 검색 방법\n",
    "# while True:\n",
    "#     name = input('검색할 책이름 입력')\n",
    "#     current = root\n",
    "#     while True:\n",
    "#         if name == current.data[0]:\n",
    "#             print(current.data[1])\n",
    "#             break\n",
    "#         elif name < current.data[0]:\n",
    "#             if current.left == None:\n",
    "#                 print('자료 없음')\n",
    "#                 break\n",
    "#             current = current.left\n",
    "#         else:\n",
    "#             if current.right == None:\n",
    "#                 print('자료 없음')\n",
    "#                 break\n",
    "#             current = current.right\n",
    "#     break\n",
    "\n",
    "# 삭제 방법\n",
    "while True:\n",
    "    deleteName = input('삭제할 책 이름 입력')\n",
    "    current = root\n",
    "    parent = None\n",
    "\n",
    "    if deleteName == current.data: #자식 노드가 두개일 때\n",
    "        if current.left == None and current.right == None:\n",
    "            if parent.left == current:\n",
    "                parent.left = None\n",
    "            else:\n",
    "                parent.right = None\n",
    "            del(current)\n"
   ]
  }
 ],
 "metadata": {
  "kernelspec": {
   "display_name": "base",
   "language": "python",
   "name": "python3"
  },
  "language_info": {
   "codemirror_mode": {
    "name": "ipython",
    "version": 3
   },
   "file_extension": ".py",
   "mimetype": "text/x-python",
   "name": "python",
   "nbconvert_exporter": "python",
   "pygments_lexer": "ipython3",
   "version": "3.9.13 (main, Aug 25 2022, 23:51:50) [MSC v.1916 64 bit (AMD64)]"
  },
  "vscode": {
   "interpreter": {
    "hash": "ad2bdc8ecc057115af97d19610ffacc2b4e99fae6737bb82f5d7fb13d2f2c186"
   }
  }
 },
 "nbformat": 4,
 "nbformat_minor": 5
}
