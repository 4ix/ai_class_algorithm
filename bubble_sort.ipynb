{
 "cells": [
  {
   "cell_type": "code",
   "execution_count": 1,
   "metadata": {},
   "outputs": [
    {
     "data": {
      "text/plain": [
       "[94, 50, 49, 77, 8, 25, 29, 49, 91, 14]"
      ]
     },
     "execution_count": 1,
     "metadata": {},
     "output_type": "execute_result"
    }
   ],
   "source": [
    "import random\n",
    "array = [ random.randint(1,100) for i in range(10) ]\n",
    "array\n"
   ]
  },
  {
   "cell_type": "code",
   "execution_count": 2,
   "metadata": {},
   "outputs": [],
   "source": [
    "def bubble_sort(array):\n",
    "    n = len(array)\n",
    "    cnt = 0\n",
    "    for end in range(n-1, 0, -1): # 횟수를 돌리는 영역 (반복 횟수)\n",
    "        sw = False\n",
    "        cnt+= 1\n",
    "        print('사이클 -> ', array)\n",
    "        for cur in range(0, end): # 0 부터 end 까지\n",
    "            if array[cur] > array[cur+1]:\n",
    "                array[cur], array[cur+1] = array[cur+1], array[cur]\n",
    "                sw = True\n",
    "        if not sw:\n",
    "            break\n",
    "    return array, cnt"
   ]
  },
  {
   "cell_type": "code",
   "execution_count": 3,
   "metadata": {},
   "outputs": [
    {
     "name": "stdout",
     "output_type": "stream",
     "text": [
      "bubble sort before ->  [94, 50, 49, 77, 8, 25, 29, 49, 91, 14]\n",
      "사이클 ->  [94, 50, 49, 77, 8, 25, 29, 49, 91, 14]\n",
      "사이클 ->  [50, 49, 77, 8, 25, 29, 49, 91, 14, 94]\n",
      "사이클 ->  [49, 50, 8, 25, 29, 49, 77, 14, 91, 94]\n",
      "사이클 ->  [49, 8, 25, 29, 49, 50, 14, 77, 91, 94]\n",
      "사이클 ->  [8, 25, 29, 49, 49, 14, 50, 77, 91, 94]\n",
      "사이클 ->  [8, 25, 29, 49, 14, 49, 50, 77, 91, 94]\n",
      "사이클 ->  [8, 25, 29, 14, 49, 49, 50, 77, 91, 94]\n",
      "사이클 ->  [8, 25, 14, 29, 49, 49, 50, 77, 91, 94]\n",
      "사이클 ->  [8, 14, 25, 29, 49, 49, 50, 77, 91, 94]\n",
      "bubble sort after ->  [8, 14, 25, 29, 49, 49, 50, 77, 91, 94]\n",
      "9 회 실행\n"
     ]
    }
   ],
   "source": [
    "print('bubble sort before -> ', array)\n",
    "array, cnt = bubble_sort(array)\n",
    "print('bubble sort after -> ', array)\n",
    "print(cnt,'회 실행')"
   ]
  },
  {
   "cell_type": "code",
   "execution_count": 1,
   "metadata": {},
   "outputs": [
    {
     "name": "stdout",
     "output_type": "stream",
     "text": [
      "bubble sort before ->  [198, 24, 28, 169, 113, 117, 187, 162, 135, 192, 54, 74, 189, 198, 150, 71, 82, 132, 72, 149]\n",
      "bubble sort after ->  [198, 198, 192, 189, 187, 169, 162, 150, 149, 135, 132, 117, 113, 82, 74, 72, 71, 54, 28, 24]\n",
      "169 회 실행\n"
     ]
    }
   ],
   "source": [
    "# 0과 200 사이의 숫자 20개를 생성한 후 내림차순으로 정렬하도록 코드를 작성하자.\n",
    "# 그리고 몇번만에 정렬했는지 횟수를 출력하자.\n",
    "\n",
    "import random\n",
    "array = [ random.randint(0,200) for i in range(20) ]\n",
    "print('bubble sort before -> ', array)\n",
    "\n",
    "def bubble_sort(array):\n",
    "    n = len(array)\n",
    "    cnt = 0\n",
    "    for end in range(n-1, 0, -1): # 사이클 돌리는 영역 (반복 횟수)\n",
    "        sw = False\n",
    "        for cur in range(0, end): # 0 부터 end 까지\n",
    "            cnt+= 1\n",
    "            if array[cur] < array[cur+1]:\n",
    "                array[cur], array[cur+1] = array[cur+1], array[cur]\n",
    "                sw = True\n",
    "        if not sw:\n",
    "            break\n",
    "    return array, cnt\n",
    "\n",
    "array, cnt = bubble_sort(array)\n",
    "print('bubble sort after -> ', array)\n",
    "print(cnt,'회 실행')"
   ]
  },
  {
   "cell_type": "code",
   "execution_count": 2,
   "metadata": {},
   "outputs": [],
   "source": [
    "# Quick Sort -> 중간 지점을 선택 후 작은 값은 왼쪽, 큰 값은 오른쪽\n",
    "# 정렬 후 병합\n",
    "\n",
    "def QuickSort(array):\n",
    "    global cnt\n",
    "    n = len(array)\n",
    "    if n<=1:\n",
    "        return array # 최종적으로 정렬된 배열 반환\n",
    "    pivot = array[n//2] # 기준이 되는 중간 값 선택\n",
    "    left_array, right_array, mid_array = [],[],[] # 빈 배열 생성\n",
    "    for num in array: #배열의 값 가져오기\n",
    "        cnt+=1\n",
    "        if num < pivot:\n",
    "            left_array.append(num)\n",
    "        elif num > pivot:\n",
    "            right_array.append(num)\n",
    "        else: ## 중앙값이 중복된다면... 중앙 배열에 추가\n",
    "            mid_array.append(num)\n",
    "    return QuickSort(left_array) + mid_array + QuickSort(right_array)\n"
   ]
  },
  {
   "cell_type": "code",
   "execution_count": 128,
   "metadata": {},
   "outputs": [
    {
     "name": "stdout",
     "output_type": "stream",
     "text": [
      "[51, 62, 68, 35, 75, 7, 87, 80, 99, 91, 56, 83, 85, 100, 95, 70, 15, 50, 26, 8] 1671158036.9949253\n",
      "[7, 8, 15, 26, 35, 50, 51, 56, 62, 68, 70, 75, 80, 83, 85, 87, 91, 95, 99, 100] 1671158036.9949253\n",
      "72\n"
     ]
    }
   ],
   "source": [
    "array = [random.randint(0,100) for i in range(20)]\n",
    "\n",
    "import time\n",
    "print(array, time.time())\n",
    "cnt = 0\n",
    "array= QuickSort(array)\n",
    "print(array, time.time())\n",
    "print(cnt)"
   ]
  },
  {
   "cell_type": "code",
   "execution_count": 130,
   "metadata": {},
   "outputs": [
    {
     "name": "stdout",
     "output_type": "stream",
     "text": [
      "[53, 34, 15, 71, 79, 40, 74, 90, 19, 41, 87, 7, 40, 24, 50, 6, 18, 84, 54, 82]\n",
      "[6, 7, 15, 18, 19, 24, 34, 40, 40, 41, 50, 53, 54, 71, 74, 79, 82, 84, 87, 90]\n",
      "31 회 실행\n"
     ]
    }
   ],
   "source": [
    "# Quick Sort -> 중간 지점을 선택 후 작은 값은 왼쪽, 큰 값은 오른쪽\n",
    "# 정렬 후 병합\n",
    "\n",
    "def QuickSort_ex(array, start, end):\n",
    "    global cnt\n",
    "    if end<=start:\n",
    "        return\n",
    "\n",
    "    low = start\n",
    "    high = end\n",
    "\n",
    "    pivot = array[(low+high)//2] # 기준이 되는 중간 값 선택\n",
    "\n",
    "    while low <= high:\n",
    "        while array[low] < pivot: # 왼쪽 반복\n",
    "            low += 1\n",
    "        while array[high] > pivot: # 오른쪽 반복\n",
    "            high -= 1\n",
    "        if low <= high: # 정렬할 자료가 있음\n",
    "            cnt += 1\n",
    "            array[low], array[high] = array[high], array[low]\n",
    "            low += 1\n",
    "            high -= 1\n",
    "\n",
    "    mid = low\n",
    "    QuickSort_ex(array, start, mid-1)\n",
    "    QuickSort_ex(array, mid, end)\n",
    "\n",
    "array = [random.randint(0,100) for i in range(20)]\n",
    "\n",
    "print(array)\n",
    "cnt=0\n",
    "QuickSort_ex(array,0,len(array)-1)\n",
    "print(array)\n",
    "print(cnt,'회 실행')"
   ]
  }
 ],
 "metadata": {
  "kernelspec": {
   "display_name": "base",
   "language": "python",
   "name": "python3"
  },
  "language_info": {
   "codemirror_mode": {
    "name": "ipython",
    "version": 3
   },
   "file_extension": ".py",
   "mimetype": "text/x-python",
   "name": "python",
   "nbconvert_exporter": "python",
   "pygments_lexer": "ipython3",
   "version": "3.9.13"
  },
  "orig_nbformat": 4,
  "vscode": {
   "interpreter": {
    "hash": "ad2bdc8ecc057115af97d19610ffacc2b4e99fae6737bb82f5d7fb13d2f2c186"
   }
  }
 },
 "nbformat": 4,
 "nbformat_minor": 2
}
