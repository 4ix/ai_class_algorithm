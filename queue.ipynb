{
 "cells": [
  {
   "cell_type": "code",
   "execution_count": null,
   "metadata": {},
   "outputs": [],
   "source": [
    "# queue size 입력 받음\n",
    "# queue size 만큼 빈 리스트 생성\n",
    "# 1. enQueue() -> 큐에 넣을 자료 입력하는 함수 생성\n",
    "# 2. deQueue() -> 큐에 가장 처음에 넣은 자료 꺼냄, 꺼낸 위치의 자료에는 None 입력\n",
    "# 3. peekQueue() -> 큐에서 빼낼 자료 확인\n",
    "# 큐의 가장 처음 위치는 front, 마지막 위치는 rear으로 설정 -> top=rear=-1"
   ]
  },
  {
   "cell_type": "code",
   "execution_count": 14,
   "metadata": {},
   "outputs": [],
   "source": [
    "def menu_prt():\n",
    "    print(' 1. 데이터 삽입 ')\n",
    "    print(' 2. 데이터 추출 ')\n",
    "    print(' 3. 처음 데이터 조회  ')  \n",
    "    print(' 4. 큐 데이터 조회  ')  \n",
    "    print(' 9. 프로그램 종료 ')  \n",
    "    print('==================================')    \n",
    "    print('선택 > ',end='')\n",
    "    menu = input()\n",
    "    return menu"
   ]
  },
  {
   "cell_type": "code",
   "execution_count": 15,
   "metadata": {},
   "outputs": [],
   "source": [
    "def creat_que():\n",
    "    global QUEUE, SIZE, FRONT, REAR\n",
    "    for _ in range(SIZE):\n",
    "        QUEUE.append(None)\n",
    "\n",
    "def queue_is_empty():\n",
    "    global QUEUE, SIZE, FRONT, REAR\n",
    "    if FRONT == REAR:\n",
    "        return True\n",
    "    else:\n",
    "        return False\n",
    "\n",
    "def queue_is_full():\n",
    "    global QUEUE, SIZE, FRONT, REAR\n",
    "    if (REAR == SIZE - 1):\n",
    "        return True\n",
    "    else:\n",
    "        return False"
   ]
  },
  {
   "cell_type": "code",
   "execution_count": 18,
   "metadata": {},
   "outputs": [],
   "source": [
    "def enQueue():\n",
    "    global SIZE, QUEUE, FRONT, REAR\n",
    "    if queue_is_full():\n",
    "        print('큐가 꽉 참')\n",
    "        return\n",
    "    REAR += 1\n",
    "    QUEUE[REAR] = input('자료 입력 > ')\n",
    "\n",
    "def deQueue():\n",
    "    global SIZE, QUEUE, FRONT, REAR\n",
    "    if queue_is_empty():\n",
    "        print('큐가 비어 있음')\n",
    "        return None\n",
    "    FRONT += 1\n",
    "    data = QUEUE[FRONT]\n",
    "    print(\"큐의 처음 자료: \", QUEUE[FRONT])\n",
    "    QUEUE[FRONT] = None\n",
    "\n",
    "    # 빈 배열의 자리로 뒤에 있는 데이터 이동\n",
    "    for i in range(FRONT + 1, SIZE):\n",
    "        QUEUE[i-1] = QUEUE[i]\n",
    "        QUEUE[i] = None\n",
    "    FRONT -= 1\n",
    "    REAR -= 1\n",
    "    return data\n",
    "\n",
    "def peekQueue():\n",
    "    global SIZE, QUEUE, FRONT, REAR\n",
    "    if queue_is_empty():\n",
    "        print('큐에 자료 없음')\n",
    "        return None\n",
    "    print(QUEUE[FRONT+1])\n",
    "\n",
    "def printInfo():\n",
    "    global SIZE, QUEUE, FRONT, REAR\n",
    "    print(f'큐 사이즈:{SIZE}, 현재 큐 정보:{QUEUE}, FRONT:{FRONT}, REAR:{REAR}')"
   ]
  },
  {
   "cell_type": "code",
   "execution_count": 17,
   "metadata": {},
   "outputs": [
    {
     "name": "stdout",
     "output_type": "stream",
     "text": [
      " 1. 데이터 삽입 \n",
      " 2. 데이터 추출 \n",
      " 3. 마지막 데이터 조회  \n",
      " 9. 프로그램 종료 \n",
      "==================================\n",
      "선택 > "
     ]
    }
   ],
   "source": [
    "FRONT = REAR = -1\n",
    "SIZE = int(input('큐 사이즈 입력 >'))\n",
    "QUEUE = []\n",
    "creat_que()\n",
    "\n",
    "while True:\n",
    "    menu = menu_prt()\n",
    "    if menu == '1':\n",
    "        enQueue()\n",
    "    elif menu == '2':   \n",
    "        deQueue()\n",
    "    elif menu == '3':\n",
    "        peekQueue()\n",
    "    elif menu == '4':\n",
    "        printInfo()\n",
    "    elif menu == '9':\n",
    "        break"
   ]
  }
 ],
 "metadata": {
  "kernelspec": {
   "display_name": "base",
   "language": "python",
   "name": "python3"
  },
  "language_info": {
   "codemirror_mode": {
    "name": "ipython",
    "version": 3
   },
   "file_extension": ".py",
   "mimetype": "text/x-python",
   "name": "python",
   "nbconvert_exporter": "python",
   "pygments_lexer": "ipython3",
   "version": "3.9.13"
  },
  "orig_nbformat": 4,
  "vscode": {
   "interpreter": {
    "hash": "ad2bdc8ecc057115af97d19610ffacc2b4e99fae6737bb82f5d7fb13d2f2c186"
   }
  }
 },
 "nbformat": 4,
 "nbformat_minor": 2
}
