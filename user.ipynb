{
 "cells": [
  {
   "cell_type": "code",
   "execution_count": 25,
   "metadata": {},
   "outputs": [
    {
     "name": "stdout",
     "output_type": "stream",
     "text": [
      "['asdfa', 'dsffds@gmai.com'] \n",
      "['dfsadsf', 'adfsasfd@adsf.com'] ['asdfa', 'dsffds@gmai.com'] \n",
      "['dfsadsf', 'adfsasfd@adsf.com'] ['asdfa', 'dsffds@gmai.com'] \n"
     ]
    }
   ],
   "source": [
    "## 클래스와 함수 선언 부분 ##\n",
    "class Node():\n",
    "    def __init__(self):\n",
    "        self.data = None\n",
    "        self.link = None\n",
    "\n",
    "def printNodes():\n",
    "    global head, tail, current, pre\n",
    "    current = head                     \n",
    "    if current == None:                 # 노드에 데이터가 하나도 없는 연결 리스트인 경우 반환\n",
    "        return\n",
    "    print(current.data, end=' ')        # 현재 노드 출력\n",
    "    while current.link != None:         # 노드의 링크가 빌 때까지 출력\n",
    "        current = current.link\n",
    "        print(current.data, end=' ')\n",
    "    print()\n",
    "\n",
    "## 메뉴 표시 ##\n",
    "def menu_print():\n",
    "    pass\n",
    "\n",
    "## 노드 삽입 ##\n",
    "def add_node():\n",
    "    global head, tail, current, pre\n",
    "    while True:\n",
    "        name = input(\"이름 >>> \")\n",
    "        if name == '':\n",
    "            printNodes()\n",
    "            break\n",
    "        e_mail = input(\"이메일 >>> \")\n",
    "        node = Node()\n",
    "        node.data = [name, e_mail]\n",
    "\n",
    "        if not head: # 첫 노드 삽입\n",
    "            head = node\n",
    "            tail = node\n",
    "            memory.append(node)\n",
    "            printNodes()\n",
    "        elif head.data[1] > e_mail:\n",
    "            node.link = head\n",
    "            head = node\n",
    "            memory.append(node)\n",
    "            printNodes()\n",
    "        else:\n",
    "            current = head\n",
    "            while True:\n",
    "                if current.link != None: # 중간 노드 삽입 \n",
    "                    pre = current\n",
    "                    current = current.link\n",
    "                    if pre.data[1] < e_mail:\n",
    "                        node.link = current\n",
    "                        pre.link = node\n",
    "                        memory.append(node)\n",
    "                        printNodes()\n",
    "                        break\n",
    "                else:\n",
    "                    current.link = node # 마지막 노드 삽입\n",
    "                    tail = node\n",
    "                    memory.append(node)\n",
    "                    printNodes()\n",
    "                    break\n",
    "            \n",
    "        \n",
    "    \n",
    "## 노드 삭제 ##\n",
    "def del_node():\n",
    "    pass\n",
    "\n",
    "\n",
    "# In[4]:\n",
    "\n",
    "\n",
    "## 전역 변수 선언 부분 ##\n",
    "memory = []                             # 생성할 노드 저장할 메모리 준비\n",
    "head, current, pre, tail = None, None, None, None   \n",
    "\n",
    "add_node()"
   ]
  }
 ],
 "metadata": {
  "kernelspec": {
   "display_name": "base",
   "language": "python",
   "name": "python3"
  },
  "language_info": {
   "codemirror_mode": {
    "name": "ipython",
    "version": 3
   },
   "file_extension": ".py",
   "mimetype": "text/x-python",
   "name": "python",
   "nbconvert_exporter": "python",
   "pygments_lexer": "ipython3",
   "version": "3.9.13"
  },
  "orig_nbformat": 4,
  "vscode": {
   "interpreter": {
    "hash": "ad2bdc8ecc057115af97d19610ffacc2b4e99fae6737bb82f5d7fb13d2f2c186"
   }
  }
 },
 "nbformat": 4,
 "nbformat_minor": 2
}
