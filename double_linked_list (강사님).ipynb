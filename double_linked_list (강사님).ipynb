{
 "cells": [
  {
   "cell_type": "code",
   "execution_count": null,
   "id": "e2a84295",
   "metadata": {},
   "outputs": [],
   "source": [
    "# 이중 링크드 리스트 작성\n",
    "# 처음 node 생성시 -> head 에 node 저장\n",
    "# 마지막에 node 삽입시 -> 마지막노드 next에 node 저장, node.prev 에 마지막 노드 저장\n",
    "#                        TAIL <- node\n",
    "# 중간 node 삽입시 -> node의 next <- curr node, curr prev노드의 next <- node\n",
    "#                      node의 prev <- curr의 prev node, curr 노드의 prev <- node\n",
    "# 처음 node 삽입시 -> head의 prev <- node , node의 next <- HEAD, HEAD <- node"
   ]
  },
  {
   "cell_type": "code",
   "execution_count": 19,
   "id": "7bbe0bd9",
   "metadata": {},
   "outputs": [],
   "source": [
    "#  이름과 성적을 입력받아 Node를 생성한 후 성적순으로 linked list 작성 \n",
    "class Node:\n",
    "    def __init__(self):\n",
    "        self.prev = None\n",
    "        self.data = {'name':None, 'score':None}\n",
    "        self.next = None \n",
    "\n",
    "HEAD = TAIL = None"
   ]
  },
  {
   "cell_type": "code",
   "execution_count": null,
   "id": "40cef95a",
   "metadata": {},
   "outputs": [],
   "source": [
    "# 메뉴 \n",
    "def menu_prt():\n",
    "    print(' 1. 자료입력 -> ')\n",
    "    print(' 2. 자료삭제 ')\n",
    "    print(' 3. 자료 조회  ')  \n",
    "    print(' 4. 자료 조회 - 역으로  ')  \n",
    "    print(' 9. 프로그램 종료 ')  \n",
    "    print('==================================')    \n",
    "    print('선택 > ',end='')\n",
    "    menu = input()\n",
    "    return menu"
   ]
  },
  {
   "cell_type": "code",
   "execution_count": null,
   "id": "5cff158a",
   "metadata": {},
   "outputs": [],
   "source": [
    "# node 추가 \n",
    "def add_node():\n",
    "    global HEAD, TAIL\n",
    "    # node 생성\n",
    "    node = Node()     # 빈 node 생성\n",
    "    input_data = input('이름과 성적 입력 : ').split()  # node.data 에 자료 입력\n",
    "    node.data['name'] = input_data[0]\n",
    "    node.data['score'] = int(input_data[1])\n",
    "\n",
    "    # 처음 node 생성시 -> head 에 node 저장. node.link에 node 저장\n",
    "    if HEAD == None:\n",
    "        HEAD = TAIL = node\n",
    "        return \n",
    "    if HEAD.data['score'] > node.data['score']:  # HEAD 앞에 삽입시\n",
    "        node.next = HEAD\n",
    "        HEAD.prev = node\n",
    "        HEAD = node\n",
    "        return \n",
    "    \n",
    "    curr = HEAD  \n",
    "    while curr != TAIL:\n",
    "        if curr.data['score'] > node.data['score']:             # 중간 삽입\n",
    "            node.next = curr        # 삽입 node.next 에 현재노드 저장\n",
    "            node.prev = curr.prev   # node.prev 에 이전노드 저장\n",
    "            curr.prev.next = node   # 현재노드의 prev에 node 저장\n",
    "            curr.prev = node        # 이전노드의 next 에 node 저장          \n",
    "            return\n",
    "        curr = curr.next  # 다음 node로 이동 \n",
    "\n",
    "   # 마지막 노드 삽입 마지막노드 link에 node 저장,head값을 node.link에 저장 \n",
    "    if curr.data['score'] > node.data['score']: \n",
    "        node.next = curr        # 삽입 node.next 에 현재노드 저장\n",
    "        node.prev = curr.prev   # node.prev 에 이전노드 저장\n",
    "        curr.prev.next = node\n",
    "        curr.prev = node        # 현재노드의 prev에 node 저장\n",
    "    else:\n",
    "        curr.next = node   # 마지막노드의 next 에 노드 저장\n",
    "        node.prev = curr   # 노드의 prev에 마지막 노드 저장\n",
    "        TAIL = node        # TAIL 에 node 저장"
   ]
  },
  {
   "cell_type": "code",
   "execution_count": null,
   "id": "4249eaea",
   "metadata": {},
   "outputs": [],
   "source": [
    "# node 삭제              \n",
    "def del_node():\n",
    "    global HEAD, TAIL\n",
    "    name = input('삭제할 자료 입력 -> ')\n",
    "    # 처음 node 삭제 -> HEAD = HEAD.next\n",
    "    curr = HEAD    \n",
    "    if HEAD.data['name'] == name:\n",
    "        if HEAD == TAIL:\n",
    "            HEAD = TAIL = None\n",
    "            del curr\n",
    "            return\n",
    "        HEAD.next.prev = None\n",
    "        HEAD = HEAD.next\n",
    "        del curr \n",
    "        return\n",
    "    \n",
    "    while curr != TAIL:\n",
    "        # 중간 node 삭제 -> prev.link = curr.link\n",
    "        if curr.data['name'] == name:\n",
    "            curr.prev.next = curr.next\n",
    "            curr.next.prev = curr.prev\n",
    "            del curr     # curr node 메모리 삭제\n",
    "            return       \n",
    "        curr = curr.next\n",
    "        \n",
    "   # 마지막 node 삭제  -> prev.link = curr.link\n",
    "    if curr.data['name'] == name:\n",
    "        TAIL.prev.next = None\n",
    "        TAIL = TAIL.prev\n",
    "        del curr    # curr node 메모리 삭제"
   ]
  },
  {
   "cell_type": "code",
   "execution_count": 32,
   "id": "92216047",
   "metadata": {},
   "outputs": [],
   "source": [
    "# 자료 출력\n",
    "def list_node(reverse=False):\n",
    "    global HEAD, TAIL\n",
    "    if HEAD == None:\n",
    "        return\n",
    "    \n",
    "    if reverse:\n",
    "        curr = TAIL\n",
    "    else:\n",
    "        curr = HEAD\n",
    "\n",
    "    while curr:\n",
    "        print(f\" {curr.data['name']} : {curr.data['score']}\")\n",
    "        if reverse:\n",
    "            curr = curr.prev\n",
    "        else:\n",
    "            curr = curr.next"
   ]
  },
  {
   "cell_type": "code",
   "execution_count": null,
   "id": "a344e382",
   "metadata": {},
   "outputs": [],
   "source": [
    "HEAD = TAIL = None"
   ]
  },
  {
   "cell_type": "code",
   "execution_count": 33,
   "id": "60d73ad2",
   "metadata": {},
   "outputs": [
    {
     "name": "stdout",
     "output_type": "stream",
     "text": [
      " 1. 자료입력 -> \n",
      " 2. 자료삭제 \n",
      " 3. 자료 조회  \n",
      " 4. 자료 조회 - 역으로  \n",
      " 9. 프로그램 종료 \n",
      "==================================\n",
      "선택 > 3\n",
      " cc : 70\n",
      " aa : 80\n",
      " bb : 90\n",
      " 1. 자료입력 -> \n",
      " 2. 자료삭제 \n",
      " 3. 자료 조회  \n",
      " 4. 자료 조회 - 역으로  \n",
      " 9. 프로그램 종료 \n",
      "==================================\n",
      "선택 > 4\n",
      " bb : 90\n",
      " aa : 80\n",
      " cc : 70\n",
      " 1. 자료입력 -> \n",
      " 2. 자료삭제 \n",
      " 3. 자료 조회  \n",
      " 4. 자료 조회 - 역으로  \n",
      " 9. 프로그램 종료 \n",
      "==================================\n",
      "선택 > 9\n"
     ]
    }
   ],
   "source": [
    "while True:\n",
    "    menu = menu_prt()\n",
    "    if menu == '1':\n",
    "        add_node()\n",
    "    elif menu == '2':   \n",
    "        del_node()\n",
    "    elif menu == '3':\n",
    "        list_node()\n",
    "    elif menu == '4':\n",
    "        list_node(reverse=True)\n",
    "    elif menu == '9':\n",
    "        break"
   ]
  },
  {
   "cell_type": "code",
   "execution_count": null,
   "id": "1e783826",
   "metadata": {},
   "outputs": [],
   "source": []
  }
 ],
 "metadata": {
  "kernelspec": {
   "display_name": "Python 3 (ipykernel)",
   "language": "python",
   "name": "python3"
  },
  "language_info": {
   "codemirror_mode": {
    "name": "ipython",
    "version": 3
   },
   "file_extension": ".py",
   "mimetype": "text/x-python",
   "name": "python",
   "nbconvert_exporter": "python",
   "pygments_lexer": "ipython3",
   "version": "3.9.13"
  }
 },
 "nbformat": 4,
 "nbformat_minor": 5
}
