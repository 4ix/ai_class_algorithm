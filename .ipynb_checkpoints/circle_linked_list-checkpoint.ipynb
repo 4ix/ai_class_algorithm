{
 "cells": [
  {
   "cell_type": "code",
   "execution_count": null,
   "metadata": {},
   "outputs": [],
   "source": [
    "# 원형 링크드 리스트 작성\n",
    "# 처음 node 생성 시 -> head에 node 저장 / node.link에 node 저장\n",
    "# 마지막에 node 삽입시 -> 마지막 노드 link에 node 저장\n",
    "#                           head 값은 node.link에 저장\n",
    "# 중간 node 삽입시 -> 이전 노드의 link에 node 저장, node.link에 현재 노드 저장\n",
    "#                           이전 노드의 link에 node 저장,\n",
    "# 처음 node 삽입시 -> head에서 시작해서 마지막 노드 검색\n",
    "#                            마지막 node.link에 node 저장\n",
    "#                            node.link 에 head 저장, head에 node저장"
   ]
  },
  {
   "cell_type": "code",
   "execution_count": 1,
   "metadata": {},
   "outputs": [],
   "source": [
    "class Node:\n",
    "    def __init__(self):\n",
    "        self.data = None\n",
    "        self.link = None"
   ]
  },
  {
   "cell_type": "code",
   "execution_count": 2,
   "metadata": {},
   "outputs": [],
   "source": [
    "def menu_prt():\n",
    "    print(' 1. 자료입력 -> ')\n",
    "    print(' 2. 자료삭제 ')\n",
    "    print(' 3. 자료 조회  ')  \n",
    "    print(' 9. 프로그램 종료 ')  \n",
    "    print('==================================')    \n",
    "    print('선택 > ',end='')\n",
    "    menu = input()\n",
    "    return menu\n",
    "\n",
    "def add_node():\n",
    "    global HEAD\n",
    "    # 생성\n",
    "    node = Node() # 빈 노드 생성\n",
    "    node.data = input('자료 입력: ' ) # node.data 에 자료 입력\n",
    "\n",
    "    # 처음 node 생성 시 -> head에 node 저장 / node.link에 node 저장\n",
    "    if HEAD == None:\n",
    "        head = node # head에 node 저장\n",
    "        node.link = node # node.link에 node 저장\n",
    "        return\n",
    "    \n",
    "    curr = HEAD\n",
    "    while curr.link != HEAD: # 현재 node(curr)의 link값이 HEAD가 아니면 수행 # 2) 중간에 삽입하는 경우\n",
    "        if curr.data > node.data: # 현재 node(curr)의 data 값이 node의 data값 보다 클 때\n",
    "            node.link = curr # 삽입 node.link에 현재 node(curr) 저장\n",
    "            prev.link = node # 이전 prev.link에 node 저장\n",
    "            return\n",
    "        prev = curr # 현재 node를 prev로 저장\n",
    "        curr = curr.link # 다음 node로 이동\n",
    "\n",
    "        if curr == HEAD: # 1) HEAD 앞에 삽입하는 경우 (맨 앞에 삽입)\n",
    "            last = HEAD # 마지막 node에 HEAD\n",
    "            while last.link != HEAD: # 마지막 node 검색\n",
    "                last = last.link\n",
    "            last.link = node\n",
    "            node.link = HEAD\n",
    "            HEAD = node\n",
    "            return\n",
    "\n",
    "        else: \n",
    "            # 3) 마지막에 노드 삽입 경우( 마지막 node.link에 node 저장 / node.link 에 head 저장)\n",
    "            if curr.data > node.data: # 현재 node(curr)의 data 값이 node의 data값 보다 클 때\n",
    "                node.link = curr # 삽입 node.link에 현재 node(curr) 저장\n",
    "                prev.link = node # 이전 prev.link에 node 저장\n",
    "                return\n",
    "            else:\n",
    "                curr.link = node\n",
    "                node.link = HEAD\n",
    "\n",
    "\n",
    "def del_node():\n",
    "    pass\n",
    "\n",
    "def list_node():\n",
    "    curr = HEAD\n",
    "    if HEAD == None:\n",
    "        return\n",
    "    while curr.link != HEAD:\n",
    "        print(curr.data)\n",
    "        curr = curr.link\n",
    "    print(curr.data)"
   ]
  },
  {
   "cell_type": "code",
   "execution_count": null,
   "metadata": {},
   "outputs": [
    {
     "name": "stdout",
     "output_type": "stream",
     "text": [
      " 1. 자료입력 -> \n",
      " 2. 자료삭제 \n",
      " 3. 자료 조회  \n",
      " 9. 프로그램 종료 \n",
      "==================================\n",
      "선택 > 1\n",
      "자료 입력: 22\n",
      " 1. 자료입력 -> \n",
      " 2. 자료삭제 \n",
      " 3. 자료 조회  \n",
      " 9. 프로그램 종료 \n",
      "==================================\n",
      "선택 > 3\n",
      " 1. 자료입력 -> \n",
      " 2. 자료삭제 \n",
      " 3. 자료 조회  \n",
      " 9. 프로그램 종료 \n",
      "==================================\n",
      "선택 > "
     ]
    }
   ],
   "source": [
    "HEAD = None\n",
    "while True:\n",
    "    menu = menu_prt()\n",
    "    if menu == '1':\n",
    "        add_node()\n",
    "    elif menu == '2':   \n",
    "        del_node()\n",
    "    elif menu == '3':\n",
    "        list_node()\n",
    "    elif menu == '9':\n",
    "        break"
   ]
  }
 ],
 "metadata": {
  "kernelspec": {
   "display_name": "Python 3 (ipykernel)",
   "language": "python",
   "name": "python3"
  },
  "language_info": {
   "codemirror_mode": {
    "name": "ipython",
    "version": 3
   },
   "file_extension": ".py",
   "mimetype": "text/x-python",
   "name": "python",
   "nbconvert_exporter": "python",
   "pygments_lexer": "ipython3",
   "version": "3.9.13"
  },
  "vscode": {
   "interpreter": {
    "hash": "ad2bdc8ecc057115af97d19610ffacc2b4e99fae6737bb82f5d7fb13d2f2c186"
   }
  }
 },
 "nbformat": 4,
 "nbformat_minor": 2
}
