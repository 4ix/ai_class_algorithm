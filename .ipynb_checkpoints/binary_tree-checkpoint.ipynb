{
 "cells": [
  {
   "cell_type": "code",
   "execution_count": 1,
   "metadata": {},
   "outputs": [],
   "source": [
    "# 이진 트리 구성\n",
    "class TreeNode():\n",
    "    def __init__(self):\n",
    "        self.left: None\n",
    "        self.data: None\n",
    "        self.right: None"
   ]
  },
  {
   "cell_type": "code",
   "execution_count": 2,
   "metadata": {},
   "outputs": [],
   "source": [
    "node1 = TreeNode() # 빈 노드 생성\n",
    "node1.data = '화사' # 처음 노드 생성\n",
    "\n",
    "node2 = TreeNode()\n",
    "node2.data = '솔라' # 두번째 노드 -> 처음 노드의 왼쪽 chilrd로 연결\n",
    "node1.left = node2\n",
    "\n",
    "node3 = TreeNode()\n",
    "node3.data = '문별' # 세번째 노드 -> 처음 노드의 오른쪽 child로 연결\n",
    "node1.right = node3\n",
    "\n",
    "node4 = TreeNode()\n",
    "node4.data = '휘인' # 네번재 노드 -> node2의 왼쪽 child로 연결\n",
    "node2.left = node4\n",
    "\n",
    "node5 = TreeNode()\n",
    "node5.data = '쯔위' # 다섯번재 노드 -> node2의 오른쪽 child로 연결\n",
    "node2.right = node5\n",
    "\n",
    "node6 = TreeNode()\n",
    "node6.data = '선미' # 여섯번째 노드 -> node3의 왼쪽 child로 연결\n",
    "node3.left = node6"
   ]
  },
  {
   "cell_type": "code",
   "execution_count": 5,
   "metadata": {},
   "outputs": [
    {
     "name": "stdout",
     "output_type": "stream",
     "text": [
      "화사 \n",
      "솔라 문별 \n",
      "휘인 쯔위 선미 "
     ]
    }
   ],
   "source": [
    "print(node1.data, end=' ')\n",
    "print()\n",
    "print(node1.left.data, node1.right.data, end =' ')\n",
    "print()\n",
    "print(node1.left.left.data, node1.left.right.data, node1.right.left.data, end =' ')"
   ]
  }
 ],
 "metadata": {
  "kernelspec": {
   "display_name": "Python 3 (ipykernel)",
   "language": "python",
   "name": "python3"
  },
  "language_info": {
   "codemirror_mode": {
    "name": "ipython",
    "version": 3
   },
   "file_extension": ".py",
   "mimetype": "text/x-python",
   "name": "python",
   "nbconvert_exporter": "python",
   "pygments_lexer": "ipython3",
   "version": "3.9.13"
  },
  "vscode": {
   "interpreter": {
    "hash": "ad2bdc8ecc057115af97d19610ffacc2b4e99fae6737bb82f5d7fb13d2f2c186"
   }
  }
 },
 "nbformat": 4,
 "nbformat_minor": 2
}
