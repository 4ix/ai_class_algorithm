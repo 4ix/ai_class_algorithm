{
 "cells": [
  {
   "cell_type": "code",
   "execution_count": null,
   "metadata": {},
   "outputs": [],
   "source": [
    "array = [ ['어린왕자', '쌩떽쥐베리'],['이방인', '까뮈'],['부활', '톨스토이'],['신곡', '단테'],['돈키호테', '세브반테스'],['동물농장', '조지오웰'],['데미안','헤르만헤세'],['파우스트', '괴테'],['대지', '펄벅'] ]\n",
    "# 1. 작가명 색인표 생성 -> 작가명, 책이름, 인덱스\n",
    "# 2. 작가명 정렬(bubble_sort)\n",
    "# 3. 작가명 검색(이진 검색)\n",
    "\n",
    "index = []\n",
    "\n",
    "for i in range(len(array)):\n",
    "    index.append([array[i][1], array[i][0], i]) # 1. 작가명 기준 인덱스 생성\n",
    "\n",
    "print('1. 작가명 인덱스 생성 -> ', index)\n",
    "print()\n",
    "\n",
    "def bubble_sort(array):\n",
    "    n = len(array)\n",
    "    cnt = 0\n",
    "    for end in range(n-1, 0, -1): # 사이클 돌리는 영역 (반복 횟수)\n",
    "        sw = False\n",
    "        for cur in range(0, end): # 0 부터 end 까지\n",
    "            cnt+= 1\n",
    "            if array[cur] > array[cur+1]: # 2. 작가명 기준 오름차순 정렬\n",
    "                array[cur], array[cur+1] = array[cur+1], array[cur]\n",
    "                sw = True\n",
    "        if not sw:\n",
    "            break\n",
    "    return array, cnt\n",
    "\n",
    "array, cnt = bubble_sort(index)\n",
    "print('2. 작가명 오름차순 정렬 -> ', array)\n",
    "print()\n",
    "\n",
    "# bianry serach\n",
    "def binarySearch(array, data):\n",
    "    global cnt, f_name, f_title, f_index\n",
    "    start = 0\n",
    "    end = len(array)-1\n",
    "    while start <= end:\n",
    "        cnt += 1\n",
    "        mid = (start+end)//2 # 중앙위치\n",
    "        if data == array[mid][0]:\n",
    "            f_name = array[mid][0]\n",
    "            f_title = array[mid][1]\n",
    "            f_index = array[mid][2]\n",
    "            return mid\n",
    "        elif data > array[mid][0]:\n",
    "            start = mid + 1\n",
    "        else:\n",
    "            end = mid -1\n",
    "    return -1\n",
    "\n",
    "# print(array[0][0]) #작가명\n",
    "# print(array[0][1]) #책이름\n",
    "# print(array[0][2]) #인덱스\n",
    "\n",
    "while True:\n",
    "    data = input('찾을 작가명 입력 >')\n",
    "    if data == 'q':\n",
    "        break\n",
    "\n",
    "    result = binarySearch(array, data)\n",
    "    if result == -1:\n",
    "        print('자료 없음')\n",
    "    else:\n",
    "        print(f'{f_name}의 {f_title}는 {f_index} 에 있습니다.')\n",
    "    print('##', cnt, '회 검색함')\n",
    "    break\n"
   ]
  }
 ],
 "metadata": {
  "kernelspec": {
   "display_name": "base",
   "language": "python",
   "name": "python3"
  },
  "language_info": {
   "name": "python",
   "version": "3.9.13 (main, Aug 25 2022, 23:51:50) [MSC v.1916 64 bit (AMD64)]"
  },
  "orig_nbformat": 4,
  "vscode": {
   "interpreter": {
    "hash": "ad2bdc8ecc057115af97d19610ffacc2b4e99fae6737bb82f5d7fb13d2f2c186"
   }
  }
 },
 "nbformat": 4,
 "nbformat_minor": 2
}
